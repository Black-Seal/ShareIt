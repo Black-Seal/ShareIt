{
 "cells": [
  {
   "cell_type": "markdown",
   "id": "b7e6fad0",
   "metadata": {},
   "source": [
    "# Data preprocessing"
   ]
  },
  {
   "cell_type": "code",
   "execution_count": 1,
   "id": "7b1bf354",
   "metadata": {},
   "outputs": [
    {
     "data": {
      "text/plain": [
       "'C:\\\\Users\\\\quay\\\\Documents\\\\ShareIt\\\\notebooks'"
      ]
     },
     "execution_count": 1,
     "metadata": {},
     "output_type": "execute_result"
    },
    {
     "data": {
      "text/plain": [
       "'C:\\\\Users\\\\quay\\\\Documents\\\\ShareIt\\\\notebooks'"
      ]
     },
     "execution_count": 1,
     "metadata": {},
     "output_type": "execute_result"
    }
   ],
   "source": [
    "pwd"
   ]
  },
  {
   "cell_type": "code",
   "execution_count": 2,
   "id": "f3b71849",
   "metadata": {},
   "outputs": [
    {
     "name": "stdout",
     "output_type": "stream",
     "text": [
      "C:\\Users\\quay\\Documents\\ShareIt\\data\n"
     ]
    }
   ],
   "source": [
    "cd ..\\data"
   ]
  },
  {
   "cell_type": "markdown",
   "id": "4ac47f2e",
   "metadata": {},
   "source": [
    "## Imports"
   ]
  },
  {
   "cell_type": "code",
   "execution_count": 3,
   "id": "24fabee3",
   "metadata": {},
   "outputs": [],
   "source": [
    "import pandas as pd\n",
    "import numpy as np\n",
    "from datetime import datetime, timedelta\n",
    "import random\n",
    "import secrets\n",
    "import string"
   ]
  },
  {
   "cell_type": "markdown",
   "id": "574e4d6e",
   "metadata": {},
   "source": [
    "## Reading files"
   ]
  },
  {
   "cell_type": "code",
   "execution_count": 4,
   "id": "7ce2e512",
   "metadata": {},
   "outputs": [],
   "source": [
    "users = pd.read_csv(\"amazon_prime_users.csv\")"
   ]
  },
  {
   "cell_type": "code",
   "execution_count": 5,
   "id": "8b4da5ad",
   "metadata": {},
   "outputs": [],
   "source": [
    "items = pd.read_csv(\"ElectronicsData.csv\")"
   ]
  },
  {
   "cell_type": "markdown",
   "id": "0b0d8101",
   "metadata": {},
   "source": [
    "## Data cleaning"
   ]
  },
  {
   "cell_type": "markdown",
   "id": "47b5e870",
   "metadata": {},
   "source": [
    "### *users Schema*"
   ]
  },
  {
   "cell_type": "code",
   "execution_count": 6,
   "id": "4f16df00",
   "metadata": {},
   "outputs": [
    {
     "data": {
      "text/html": [
       "<div>\n",
       "<style scoped>\n",
       "    .dataframe tbody tr th:only-of-type {\n",
       "        vertical-align: middle;\n",
       "    }\n",
       "\n",
       "    .dataframe tbody tr th {\n",
       "        vertical-align: top;\n",
       "    }\n",
       "\n",
       "    .dataframe thead th {\n",
       "        text-align: right;\n",
       "    }\n",
       "</style>\n",
       "<table border=\"1\" class=\"dataframe\">\n",
       "  <thead>\n",
       "    <tr style=\"text-align: right;\">\n",
       "      <th></th>\n",
       "      <th>User ID</th>\n",
       "      <th>Name</th>\n",
       "      <th>Email Address</th>\n",
       "      <th>Username</th>\n",
       "      <th>Date of Birth</th>\n",
       "      <th>Gender</th>\n",
       "      <th>Location</th>\n",
       "      <th>Membership Start Date</th>\n",
       "      <th>Membership End Date</th>\n",
       "      <th>Subscription Plan</th>\n",
       "      <th>Payment Information</th>\n",
       "      <th>Renewal Status</th>\n",
       "      <th>Usage Frequency</th>\n",
       "      <th>Purchase History</th>\n",
       "      <th>Favorite Genres</th>\n",
       "      <th>Devices Used</th>\n",
       "      <th>Engagement Metrics</th>\n",
       "      <th>Feedback/Ratings</th>\n",
       "      <th>Customer Support Interactions</th>\n",
       "    </tr>\n",
       "  </thead>\n",
       "  <tbody>\n",
       "    <tr>\n",
       "      <th>0</th>\n",
       "      <td>1</td>\n",
       "      <td>Ronald Murphy</td>\n",
       "      <td>williamholland@example.com</td>\n",
       "      <td>williamholland</td>\n",
       "      <td>1953-06-03</td>\n",
       "      <td>Male</td>\n",
       "      <td>Rebeccachester</td>\n",
       "      <td>2024-01-15</td>\n",
       "      <td>2025-01-14</td>\n",
       "      <td>Annual</td>\n",
       "      <td>Mastercard</td>\n",
       "      <td>Manual</td>\n",
       "      <td>Regular</td>\n",
       "      <td>Electronics</td>\n",
       "      <td>Documentary</td>\n",
       "      <td>Smart TV</td>\n",
       "      <td>Medium</td>\n",
       "      <td>3.6</td>\n",
       "      <td>3</td>\n",
       "    </tr>\n",
       "    <tr>\n",
       "      <th>1</th>\n",
       "      <td>2</td>\n",
       "      <td>Scott Allen</td>\n",
       "      <td>scott22@example.org</td>\n",
       "      <td>scott22</td>\n",
       "      <td>1978-07-08</td>\n",
       "      <td>Male</td>\n",
       "      <td>Mcphersonview</td>\n",
       "      <td>2024-01-07</td>\n",
       "      <td>2025-01-06</td>\n",
       "      <td>Monthly</td>\n",
       "      <td>Visa</td>\n",
       "      <td>Manual</td>\n",
       "      <td>Regular</td>\n",
       "      <td>Electronics</td>\n",
       "      <td>Horror</td>\n",
       "      <td>Smartphone</td>\n",
       "      <td>Medium</td>\n",
       "      <td>3.8</td>\n",
       "      <td>7</td>\n",
       "    </tr>\n",
       "    <tr>\n",
       "      <th>2</th>\n",
       "      <td>3</td>\n",
       "      <td>Jonathan Parrish</td>\n",
       "      <td>brooke16@example.org</td>\n",
       "      <td>brooke16</td>\n",
       "      <td>1994-12-06</td>\n",
       "      <td>Female</td>\n",
       "      <td>Youngfort</td>\n",
       "      <td>2024-04-13</td>\n",
       "      <td>2025-04-13</td>\n",
       "      <td>Monthly</td>\n",
       "      <td>Mastercard</td>\n",
       "      <td>Manual</td>\n",
       "      <td>Regular</td>\n",
       "      <td>Books</td>\n",
       "      <td>Comedy</td>\n",
       "      <td>Smart TV</td>\n",
       "      <td>Low</td>\n",
       "      <td>3.3</td>\n",
       "      <td>8</td>\n",
       "    </tr>\n",
       "    <tr>\n",
       "      <th>3</th>\n",
       "      <td>4</td>\n",
       "      <td>Megan Williams</td>\n",
       "      <td>elizabeth31@example.net</td>\n",
       "      <td>elizabeth31</td>\n",
       "      <td>1964-12-22</td>\n",
       "      <td>Female</td>\n",
       "      <td>Feliciashire</td>\n",
       "      <td>2024-01-24</td>\n",
       "      <td>2025-01-23</td>\n",
       "      <td>Monthly</td>\n",
       "      <td>Amex</td>\n",
       "      <td>Auto-renew</td>\n",
       "      <td>Regular</td>\n",
       "      <td>Electronics</td>\n",
       "      <td>Documentary</td>\n",
       "      <td>Smart TV</td>\n",
       "      <td>High</td>\n",
       "      <td>3.3</td>\n",
       "      <td>7</td>\n",
       "    </tr>\n",
       "    <tr>\n",
       "      <th>4</th>\n",
       "      <td>5</td>\n",
       "      <td>Kathryn Brown</td>\n",
       "      <td>pattersonalexandra@example.org</td>\n",
       "      <td>pattersonalexandra</td>\n",
       "      <td>1961-06-04</td>\n",
       "      <td>Male</td>\n",
       "      <td>Port Deborah</td>\n",
       "      <td>2024-02-14</td>\n",
       "      <td>2025-02-13</td>\n",
       "      <td>Annual</td>\n",
       "      <td>Visa</td>\n",
       "      <td>Auto-renew</td>\n",
       "      <td>Frequent</td>\n",
       "      <td>Clothing</td>\n",
       "      <td>Drama</td>\n",
       "      <td>Smart TV</td>\n",
       "      <td>Low</td>\n",
       "      <td>4.3</td>\n",
       "      <td>1</td>\n",
       "    </tr>\n",
       "  </tbody>\n",
       "</table>\n",
       "</div>"
      ],
      "text/plain": [
       "   User ID              Name                   Email Address  \\\n",
       "0        1     Ronald Murphy      williamholland@example.com   \n",
       "1        2       Scott Allen             scott22@example.org   \n",
       "2        3  Jonathan Parrish            brooke16@example.org   \n",
       "3        4    Megan Williams         elizabeth31@example.net   \n",
       "4        5     Kathryn Brown  pattersonalexandra@example.org   \n",
       "\n",
       "             Username Date of Birth  Gender        Location  \\\n",
       "0      williamholland    1953-06-03    Male  Rebeccachester   \n",
       "1             scott22    1978-07-08    Male   Mcphersonview   \n",
       "2            brooke16    1994-12-06  Female       Youngfort   \n",
       "3         elizabeth31    1964-12-22  Female    Feliciashire   \n",
       "4  pattersonalexandra    1961-06-04    Male    Port Deborah   \n",
       "\n",
       "  Membership Start Date Membership End Date Subscription Plan  \\\n",
       "0            2024-01-15          2025-01-14            Annual   \n",
       "1            2024-01-07          2025-01-06           Monthly   \n",
       "2            2024-04-13          2025-04-13           Monthly   \n",
       "3            2024-01-24          2025-01-23           Monthly   \n",
       "4            2024-02-14          2025-02-13            Annual   \n",
       "\n",
       "  Payment Information Renewal Status Usage Frequency Purchase History  \\\n",
       "0          Mastercard         Manual         Regular      Electronics   \n",
       "1                Visa         Manual         Regular      Electronics   \n",
       "2          Mastercard         Manual         Regular            Books   \n",
       "3                Amex     Auto-renew         Regular      Electronics   \n",
       "4                Visa     Auto-renew        Frequent         Clothing   \n",
       "\n",
       "  Favorite Genres Devices Used Engagement Metrics  Feedback/Ratings  \\\n",
       "0     Documentary     Smart TV             Medium               3.6   \n",
       "1          Horror   Smartphone             Medium               3.8   \n",
       "2          Comedy     Smart TV                Low               3.3   \n",
       "3     Documentary     Smart TV               High               3.3   \n",
       "4           Drama     Smart TV                Low               4.3   \n",
       "\n",
       "   Customer Support Interactions  \n",
       "0                              3  \n",
       "1                              7  \n",
       "2                              8  \n",
       "3                              7  \n",
       "4                              1  "
      ]
     },
     "execution_count": 6,
     "metadata": {},
     "output_type": "execute_result"
    }
   ],
   "source": [
    "users.head()"
   ]
  },
  {
   "cell_type": "code",
   "execution_count": 7,
   "id": "dee1c979",
   "metadata": {},
   "outputs": [
    {
     "data": {
      "text/plain": [
       "0"
      ]
     },
     "execution_count": 7,
     "metadata": {},
     "output_type": "execute_result"
    }
   ],
   "source": [
    "users.isna().sum().sum()"
   ]
  },
  {
   "cell_type": "code",
   "execution_count": 8,
   "id": "83f3dd61",
   "metadata": {
    "scrolled": true
   },
   "outputs": [
    {
     "data": {
      "text/plain": [
       "(2500, 19)"
      ]
     },
     "execution_count": 8,
     "metadata": {},
     "output_type": "execute_result"
    }
   ],
   "source": [
    "users.shape"
   ]
  },
  {
   "cell_type": "markdown",
   "id": "5f7d35fd",
   "metadata": {},
   "source": [
    "#### Change columns to PascalCase "
   ]
  },
  {
   "cell_type": "code",
   "execution_count": 9,
   "id": "df6f429d",
   "metadata": {},
   "outputs": [],
   "source": [
    "users.columns = users.columns.str.replace(' ', '')"
   ]
  },
  {
   "cell_type": "code",
   "execution_count": 10,
   "id": "1224a441",
   "metadata": {
    "scrolled": true
   },
   "outputs": [
    {
     "data": {
      "text/plain": [
       "Index(['UserID', 'Name', 'EmailAddress', 'Username', 'DateofBirth', 'Gender',\n",
       "       'Location', 'MembershipStartDate', 'MembershipEndDate',\n",
       "       'SubscriptionPlan', 'PaymentInformation', 'RenewalStatus',\n",
       "       'UsageFrequency', 'PurchaseHistory', 'FavoriteGenres', 'DevicesUsed',\n",
       "       'EngagementMetrics', 'Feedback/Ratings', 'CustomerSupportInteractions'],\n",
       "      dtype='object')"
      ]
     },
     "execution_count": 10,
     "metadata": {},
     "output_type": "execute_result"
    }
   ],
   "source": [
    "users.columns"
   ]
  },
  {
   "cell_type": "code",
   "execution_count": 11,
   "id": "a62b690c",
   "metadata": {},
   "outputs": [],
   "source": [
    "users[['FirstName', 'LastName']] = users['Name'].str.split(' ', n = 1, expand=True)"
   ]
  },
  {
   "cell_type": "code",
   "execution_count": 12,
   "id": "ee5217bb",
   "metadata": {},
   "outputs": [],
   "source": [
    "users2 = users[[\"UserID\", \"FirstName\", \"LastName\", \"EmailAddress\"]].copy()"
   ]
  },
  {
   "cell_type": "code",
   "execution_count": null,
   "id": "52069c54",
   "metadata": {},
   "outputs": [],
   "source": [
    "users2 = users2.rename(columns={'EmailAddress': 'Email'})"
   ]
  },
  {
   "cell_type": "code",
   "execution_count": 13,
   "id": "a6e4d5dc",
   "metadata": {},
   "outputs": [
    {
     "data": {
      "text/html": [
       "<div>\n",
       "<style scoped>\n",
       "    .dataframe tbody tr th:only-of-type {\n",
       "        vertical-align: middle;\n",
       "    }\n",
       "\n",
       "    .dataframe tbody tr th {\n",
       "        vertical-align: top;\n",
       "    }\n",
       "\n",
       "    .dataframe thead th {\n",
       "        text-align: right;\n",
       "    }\n",
       "</style>\n",
       "<table border=\"1\" class=\"dataframe\">\n",
       "  <thead>\n",
       "    <tr style=\"text-align: right;\">\n",
       "      <th></th>\n",
       "      <th>UserID</th>\n",
       "      <th>FirstName</th>\n",
       "      <th>LastName</th>\n",
       "      <th>EmailAddress</th>\n",
       "    </tr>\n",
       "  </thead>\n",
       "  <tbody>\n",
       "    <tr>\n",
       "      <th>0</th>\n",
       "      <td>1</td>\n",
       "      <td>Ronald</td>\n",
       "      <td>Murphy</td>\n",
       "      <td>williamholland@example.com</td>\n",
       "    </tr>\n",
       "    <tr>\n",
       "      <th>1</th>\n",
       "      <td>2</td>\n",
       "      <td>Scott</td>\n",
       "      <td>Allen</td>\n",
       "      <td>scott22@example.org</td>\n",
       "    </tr>\n",
       "    <tr>\n",
       "      <th>2</th>\n",
       "      <td>3</td>\n",
       "      <td>Jonathan</td>\n",
       "      <td>Parrish</td>\n",
       "      <td>brooke16@example.org</td>\n",
       "    </tr>\n",
       "    <tr>\n",
       "      <th>3</th>\n",
       "      <td>4</td>\n",
       "      <td>Megan</td>\n",
       "      <td>Williams</td>\n",
       "      <td>elizabeth31@example.net</td>\n",
       "    </tr>\n",
       "    <tr>\n",
       "      <th>4</th>\n",
       "      <td>5</td>\n",
       "      <td>Kathryn</td>\n",
       "      <td>Brown</td>\n",
       "      <td>pattersonalexandra@example.org</td>\n",
       "    </tr>\n",
       "  </tbody>\n",
       "</table>\n",
       "</div>"
      ],
      "text/plain": [
       "   UserID FirstName  LastName                    EmailAddress\n",
       "0       1    Ronald    Murphy      williamholland@example.com\n",
       "1       2     Scott     Allen             scott22@example.org\n",
       "2       3  Jonathan   Parrish            brooke16@example.org\n",
       "3       4     Megan  Williams         elizabeth31@example.net\n",
       "4       5   Kathryn     Brown  pattersonalexandra@example.org"
      ]
     },
     "execution_count": 13,
     "metadata": {},
     "output_type": "execute_result"
    }
   ],
   "source": [
    "users2.head()"
   ]
  },
  {
   "cell_type": "code",
   "execution_count": 14,
   "id": "e0dd4200",
   "metadata": {},
   "outputs": [
    {
     "data": {
      "text/plain": [
       "0"
      ]
     },
     "execution_count": 14,
     "metadata": {},
     "output_type": "execute_result"
    }
   ],
   "source": [
    "users2.isna().sum().sum()"
   ]
  },
  {
   "cell_type": "code",
   "execution_count": 15,
   "id": "b49f1e4e",
   "metadata": {},
   "outputs": [],
   "source": [
    "def generate_unique_phone_numbers(count):\n",
    "    phone_numbers = set()\n",
    "    while len(phone_numbers) < count:\n",
    "        start_digit = np.random.choice([8, 9])\n",
    "        \n",
    "        remaining_digits = np.random.randint(0, 10, 7)\n",
    "        phone_number = str(start_digit) + ''.join(map(str, remaining_digits))\n",
    "        phone_numbers.add(phone_number)\n",
    "    return list(phone_numbers)\n",
    "\n",
    "num_records = len(users)\n",
    "unique_phone_numbers = generate_unique_phone_numbers(num_records)"
   ]
  },
  {
   "cell_type": "code",
   "execution_count": 16,
   "id": "0e83f356",
   "metadata": {},
   "outputs": [],
   "source": [
    "users2['Contact'] = unique_phone_numbers"
   ]
  },
  {
   "cell_type": "code",
   "execution_count": 17,
   "id": "aeb56ac8",
   "metadata": {
    "scrolled": false
   },
   "outputs": [
    {
     "data": {
      "text/html": [
       "<div>\n",
       "<style scoped>\n",
       "    .dataframe tbody tr th:only-of-type {\n",
       "        vertical-align: middle;\n",
       "    }\n",
       "\n",
       "    .dataframe tbody tr th {\n",
       "        vertical-align: top;\n",
       "    }\n",
       "\n",
       "    .dataframe thead th {\n",
       "        text-align: right;\n",
       "    }\n",
       "</style>\n",
       "<table border=\"1\" class=\"dataframe\">\n",
       "  <thead>\n",
       "    <tr style=\"text-align: right;\">\n",
       "      <th></th>\n",
       "      <th>UserID</th>\n",
       "      <th>FirstName</th>\n",
       "      <th>LastName</th>\n",
       "      <th>EmailAddress</th>\n",
       "      <th>Contact</th>\n",
       "    </tr>\n",
       "  </thead>\n",
       "  <tbody>\n",
       "    <tr>\n",
       "      <th>0</th>\n",
       "      <td>1</td>\n",
       "      <td>Ronald</td>\n",
       "      <td>Murphy</td>\n",
       "      <td>williamholland@example.com</td>\n",
       "      <td>85337933</td>\n",
       "    </tr>\n",
       "    <tr>\n",
       "      <th>1</th>\n",
       "      <td>2</td>\n",
       "      <td>Scott</td>\n",
       "      <td>Allen</td>\n",
       "      <td>scott22@example.org</td>\n",
       "      <td>94318798</td>\n",
       "    </tr>\n",
       "    <tr>\n",
       "      <th>2</th>\n",
       "      <td>3</td>\n",
       "      <td>Jonathan</td>\n",
       "      <td>Parrish</td>\n",
       "      <td>brooke16@example.org</td>\n",
       "      <td>82943611</td>\n",
       "    </tr>\n",
       "    <tr>\n",
       "      <th>3</th>\n",
       "      <td>4</td>\n",
       "      <td>Megan</td>\n",
       "      <td>Williams</td>\n",
       "      <td>elizabeth31@example.net</td>\n",
       "      <td>81608803</td>\n",
       "    </tr>\n",
       "    <tr>\n",
       "      <th>4</th>\n",
       "      <td>5</td>\n",
       "      <td>Kathryn</td>\n",
       "      <td>Brown</td>\n",
       "      <td>pattersonalexandra@example.org</td>\n",
       "      <td>95146142</td>\n",
       "    </tr>\n",
       "    <tr>\n",
       "      <th>...</th>\n",
       "      <td>...</td>\n",
       "      <td>...</td>\n",
       "      <td>...</td>\n",
       "      <td>...</td>\n",
       "      <td>...</td>\n",
       "    </tr>\n",
       "    <tr>\n",
       "      <th>2495</th>\n",
       "      <td>2496</td>\n",
       "      <td>Michael</td>\n",
       "      <td>Lopez</td>\n",
       "      <td>williamsroberto@example.org</td>\n",
       "      <td>82654133</td>\n",
       "    </tr>\n",
       "    <tr>\n",
       "      <th>2496</th>\n",
       "      <td>2497</td>\n",
       "      <td>Matthew</td>\n",
       "      <td>Woodard</td>\n",
       "      <td>lkaiser@example.com</td>\n",
       "      <td>97206444</td>\n",
       "    </tr>\n",
       "    <tr>\n",
       "      <th>2497</th>\n",
       "      <td>2498</td>\n",
       "      <td>Morgan</td>\n",
       "      <td>Barnes</td>\n",
       "      <td>erikaholland@example.net</td>\n",
       "      <td>81243050</td>\n",
       "    </tr>\n",
       "    <tr>\n",
       "      <th>2498</th>\n",
       "      <td>2499</td>\n",
       "      <td>Gina</td>\n",
       "      <td>Castaneda</td>\n",
       "      <td>reedcourtney@example.net</td>\n",
       "      <td>82646849</td>\n",
       "    </tr>\n",
       "    <tr>\n",
       "      <th>2499</th>\n",
       "      <td>2500</td>\n",
       "      <td>Mark</td>\n",
       "      <td>Nicholson</td>\n",
       "      <td>martinisaac@example.net</td>\n",
       "      <td>91444150</td>\n",
       "    </tr>\n",
       "  </tbody>\n",
       "</table>\n",
       "<p>2500 rows × 5 columns</p>\n",
       "</div>"
      ],
      "text/plain": [
       "      UserID FirstName   LastName                    EmailAddress   Contact\n",
       "0          1    Ronald     Murphy      williamholland@example.com  85337933\n",
       "1          2     Scott      Allen             scott22@example.org  94318798\n",
       "2          3  Jonathan    Parrish            brooke16@example.org  82943611\n",
       "3          4     Megan   Williams         elizabeth31@example.net  81608803\n",
       "4          5   Kathryn      Brown  pattersonalexandra@example.org  95146142\n",
       "...      ...       ...        ...                             ...       ...\n",
       "2495    2496   Michael      Lopez     williamsroberto@example.org  82654133\n",
       "2496    2497   Matthew    Woodard             lkaiser@example.com  97206444\n",
       "2497    2498    Morgan     Barnes        erikaholland@example.net  81243050\n",
       "2498    2499      Gina  Castaneda        reedcourtney@example.net  82646849\n",
       "2499    2500      Mark  Nicholson         martinisaac@example.net  91444150\n",
       "\n",
       "[2500 rows x 5 columns]"
      ]
     },
     "execution_count": 17,
     "metadata": {},
     "output_type": "execute_result"
    }
   ],
   "source": [
    "users2"
   ]
  },
  {
   "cell_type": "code",
   "execution_count": 18,
   "id": "e93af674",
   "metadata": {},
   "outputs": [
    {
     "data": {
      "text/plain": [
       "2500"
      ]
     },
     "execution_count": 18,
     "metadata": {},
     "output_type": "execute_result"
    }
   ],
   "source": [
    "users2['Contact'].nunique()"
   ]
  },
  {
   "cell_type": "code",
   "execution_count": 19,
   "id": "2263dead",
   "metadata": {},
   "outputs": [],
   "source": [
    "def generate_password(length=10):\n",
    "    characters = string.ascii_letters + string.digits\n",
    "    return ''.join(random.choice(characters) for i in range(length))\n",
    "\n"
   ]
  },
  {
   "cell_type": "code",
   "execution_count": 20,
   "id": "a6b0f550",
   "metadata": {},
   "outputs": [],
   "source": [
    "users2['Password'] = users.apply(lambda x: generate_password(), axis=1)"
   ]
  },
  {
   "cell_type": "code",
   "execution_count": 21,
   "id": "09b26e6f",
   "metadata": {},
   "outputs": [
    {
     "data": {
      "text/html": [
       "<div>\n",
       "<style scoped>\n",
       "    .dataframe tbody tr th:only-of-type {\n",
       "        vertical-align: middle;\n",
       "    }\n",
       "\n",
       "    .dataframe tbody tr th {\n",
       "        vertical-align: top;\n",
       "    }\n",
       "\n",
       "    .dataframe thead th {\n",
       "        text-align: right;\n",
       "    }\n",
       "</style>\n",
       "<table border=\"1\" class=\"dataframe\">\n",
       "  <thead>\n",
       "    <tr style=\"text-align: right;\">\n",
       "      <th></th>\n",
       "      <th>UserID</th>\n",
       "      <th>FirstName</th>\n",
       "      <th>LastName</th>\n",
       "      <th>EmailAddress</th>\n",
       "      <th>Contact</th>\n",
       "      <th>Password</th>\n",
       "    </tr>\n",
       "  </thead>\n",
       "  <tbody>\n",
       "    <tr>\n",
       "      <th>0</th>\n",
       "      <td>1</td>\n",
       "      <td>Ronald</td>\n",
       "      <td>Murphy</td>\n",
       "      <td>williamholland@example.com</td>\n",
       "      <td>85337933</td>\n",
       "      <td>DV3GegCLfm</td>\n",
       "    </tr>\n",
       "    <tr>\n",
       "      <th>1</th>\n",
       "      <td>2</td>\n",
       "      <td>Scott</td>\n",
       "      <td>Allen</td>\n",
       "      <td>scott22@example.org</td>\n",
       "      <td>94318798</td>\n",
       "      <td>UspCzqv0Vk</td>\n",
       "    </tr>\n",
       "    <tr>\n",
       "      <th>2</th>\n",
       "      <td>3</td>\n",
       "      <td>Jonathan</td>\n",
       "      <td>Parrish</td>\n",
       "      <td>brooke16@example.org</td>\n",
       "      <td>82943611</td>\n",
       "      <td>TOnCHXYEKD</td>\n",
       "    </tr>\n",
       "    <tr>\n",
       "      <th>3</th>\n",
       "      <td>4</td>\n",
       "      <td>Megan</td>\n",
       "      <td>Williams</td>\n",
       "      <td>elizabeth31@example.net</td>\n",
       "      <td>81608803</td>\n",
       "      <td>UinbA4zRD0</td>\n",
       "    </tr>\n",
       "    <tr>\n",
       "      <th>4</th>\n",
       "      <td>5</td>\n",
       "      <td>Kathryn</td>\n",
       "      <td>Brown</td>\n",
       "      <td>pattersonalexandra@example.org</td>\n",
       "      <td>95146142</td>\n",
       "      <td>3TU8vKNfM9</td>\n",
       "    </tr>\n",
       "    <tr>\n",
       "      <th>...</th>\n",
       "      <td>...</td>\n",
       "      <td>...</td>\n",
       "      <td>...</td>\n",
       "      <td>...</td>\n",
       "      <td>...</td>\n",
       "      <td>...</td>\n",
       "    </tr>\n",
       "    <tr>\n",
       "      <th>2495</th>\n",
       "      <td>2496</td>\n",
       "      <td>Michael</td>\n",
       "      <td>Lopez</td>\n",
       "      <td>williamsroberto@example.org</td>\n",
       "      <td>82654133</td>\n",
       "      <td>vOTCP3xLCj</td>\n",
       "    </tr>\n",
       "    <tr>\n",
       "      <th>2496</th>\n",
       "      <td>2497</td>\n",
       "      <td>Matthew</td>\n",
       "      <td>Woodard</td>\n",
       "      <td>lkaiser@example.com</td>\n",
       "      <td>97206444</td>\n",
       "      <td>Vo2G78e5J1</td>\n",
       "    </tr>\n",
       "    <tr>\n",
       "      <th>2497</th>\n",
       "      <td>2498</td>\n",
       "      <td>Morgan</td>\n",
       "      <td>Barnes</td>\n",
       "      <td>erikaholland@example.net</td>\n",
       "      <td>81243050</td>\n",
       "      <td>REzdXmHhSt</td>\n",
       "    </tr>\n",
       "    <tr>\n",
       "      <th>2498</th>\n",
       "      <td>2499</td>\n",
       "      <td>Gina</td>\n",
       "      <td>Castaneda</td>\n",
       "      <td>reedcourtney@example.net</td>\n",
       "      <td>82646849</td>\n",
       "      <td>ydoMsNR485</td>\n",
       "    </tr>\n",
       "    <tr>\n",
       "      <th>2499</th>\n",
       "      <td>2500</td>\n",
       "      <td>Mark</td>\n",
       "      <td>Nicholson</td>\n",
       "      <td>martinisaac@example.net</td>\n",
       "      <td>91444150</td>\n",
       "      <td>8xeh2g9nXZ</td>\n",
       "    </tr>\n",
       "  </tbody>\n",
       "</table>\n",
       "<p>2500 rows × 6 columns</p>\n",
       "</div>"
      ],
      "text/plain": [
       "      UserID FirstName   LastName                    EmailAddress   Contact  \\\n",
       "0          1    Ronald     Murphy      williamholland@example.com  85337933   \n",
       "1          2     Scott      Allen             scott22@example.org  94318798   \n",
       "2          3  Jonathan    Parrish            brooke16@example.org  82943611   \n",
       "3          4     Megan   Williams         elizabeth31@example.net  81608803   \n",
       "4          5   Kathryn      Brown  pattersonalexandra@example.org  95146142   \n",
       "...      ...       ...        ...                             ...       ...   \n",
       "2495    2496   Michael      Lopez     williamsroberto@example.org  82654133   \n",
       "2496    2497   Matthew    Woodard             lkaiser@example.com  97206444   \n",
       "2497    2498    Morgan     Barnes        erikaholland@example.net  81243050   \n",
       "2498    2499      Gina  Castaneda        reedcourtney@example.net  82646849   \n",
       "2499    2500      Mark  Nicholson         martinisaac@example.net  91444150   \n",
       "\n",
       "        Password  \n",
       "0     DV3GegCLfm  \n",
       "1     UspCzqv0Vk  \n",
       "2     TOnCHXYEKD  \n",
       "3     UinbA4zRD0  \n",
       "4     3TU8vKNfM9  \n",
       "...          ...  \n",
       "2495  vOTCP3xLCj  \n",
       "2496  Vo2G78e5J1  \n",
       "2497  REzdXmHhSt  \n",
       "2498  ydoMsNR485  \n",
       "2499  8xeh2g9nXZ  \n",
       "\n",
       "[2500 rows x 6 columns]"
      ]
     },
     "execution_count": 21,
     "metadata": {},
     "output_type": "execute_result"
    }
   ],
   "source": [
    "users2"
   ]
  },
  {
   "cell_type": "code",
   "execution_count": null,
   "id": "8ab5acb7",
   "metadata": {},
   "outputs": [],
   "source": []
  },
  {
   "cell_type": "markdown",
   "id": "9a874c0d",
   "metadata": {},
   "source": [
    "### *items Schema*"
   ]
  },
  {
   "cell_type": "code",
   "execution_count": 22,
   "id": "00b52465",
   "metadata": {},
   "outputs": [
    {
     "data": {
      "text/html": [
       "<div>\n",
       "<style scoped>\n",
       "    .dataframe tbody tr th:only-of-type {\n",
       "        vertical-align: middle;\n",
       "    }\n",
       "\n",
       "    .dataframe tbody tr th {\n",
       "        vertical-align: top;\n",
       "    }\n",
       "\n",
       "    .dataframe thead th {\n",
       "        text-align: right;\n",
       "    }\n",
       "</style>\n",
       "<table border=\"1\" class=\"dataframe\">\n",
       "  <thead>\n",
       "    <tr style=\"text-align: right;\">\n",
       "      <th></th>\n",
       "      <th>Sub Category</th>\n",
       "      <th>Price</th>\n",
       "      <th>Discount</th>\n",
       "      <th>Rating</th>\n",
       "      <th>Title</th>\n",
       "      <th>Currency</th>\n",
       "      <th>Feature</th>\n",
       "    </tr>\n",
       "  </thead>\n",
       "  <tbody>\n",
       "    <tr>\n",
       "      <th>0</th>\n",
       "      <td>Batteries</td>\n",
       "      <td>$20.99</td>\n",
       "      <td>No Discount</td>\n",
       "      <td>NaN</td>\n",
       "      <td>Duracell Coppertop Alkaline AA Batteries, 40-c...</td>\n",
       "      <td>$</td>\n",
       "      <td>POWER BOOST™ Ingredients   Guaranteed For 12 Y...</td>\n",
       "    </tr>\n",
       "    <tr>\n",
       "      <th>1</th>\n",
       "      <td>Batteries</td>\n",
       "      <td>$20.99</td>\n",
       "      <td>No Discount</td>\n",
       "      <td>NaN</td>\n",
       "      <td>Duracell Coppertop Alkaline AAA Batteries, 40-...</td>\n",
       "      <td>$</td>\n",
       "      <td>POWER BOOST™ Ingredients   Guaranteed For 12 Y...</td>\n",
       "    </tr>\n",
       "    <tr>\n",
       "      <th>2</th>\n",
       "      <td>Batteries</td>\n",
       "      <td>$20.99</td>\n",
       "      <td>No Discount</td>\n",
       "      <td>NaN</td>\n",
       "      <td>Duracell 9V Alkaline Batteries, 8-count</td>\n",
       "      <td>$</td>\n",
       "      <td>Long-Lasting Batteries Designed for Dependabil...</td>\n",
       "    </tr>\n",
       "    <tr>\n",
       "      <th>3</th>\n",
       "      <td>Batteries</td>\n",
       "      <td>$18.99</td>\n",
       "      <td>No Discount</td>\n",
       "      <td>NaN</td>\n",
       "      <td>Duracell C Alkaline Batteries, 14-count</td>\n",
       "      <td>$</td>\n",
       "      <td>Long-Lasting Batteries Designed for Dependabil...</td>\n",
       "    </tr>\n",
       "    <tr>\n",
       "      <th>4</th>\n",
       "      <td>Batteries</td>\n",
       "      <td>$14.99</td>\n",
       "      <td>No Discount</td>\n",
       "      <td>Rated 4.8 out of 5 stars based on 125 reviews.</td>\n",
       "      <td>Duracell 2032 Lithium Coin Batteries, 12-count</td>\n",
       "      <td>$</td>\n",
       "      <td>Our Longest Lasting Lithium Coin Battery Ever ...</td>\n",
       "    </tr>\n",
       "  </tbody>\n",
       "</table>\n",
       "</div>"
      ],
      "text/plain": [
       "  Sub Category    Price     Discount  \\\n",
       "0    Batteries  $20.99   No Discount   \n",
       "1    Batteries  $20.99   No Discount   \n",
       "2    Batteries  $20.99   No Discount   \n",
       "3    Batteries  $18.99   No Discount   \n",
       "4    Batteries  $14.99   No Discount   \n",
       "\n",
       "                                           Rating  \\\n",
       "0                                             NaN   \n",
       "1                                             NaN   \n",
       "2                                             NaN   \n",
       "3                                             NaN   \n",
       "4  Rated 4.8 out of 5 stars based on 125 reviews.   \n",
       "\n",
       "                                               Title Currency  \\\n",
       "0  Duracell Coppertop Alkaline AA Batteries, 40-c...        $   \n",
       "1  Duracell Coppertop Alkaline AAA Batteries, 40-...        $   \n",
       "2            Duracell 9V Alkaline Batteries, 8-count        $   \n",
       "3            Duracell C Alkaline Batteries, 14-count        $   \n",
       "4     Duracell 2032 Lithium Coin Batteries, 12-count        $   \n",
       "\n",
       "                                             Feature  \n",
       "0  POWER BOOST™ Ingredients   Guaranteed For 12 Y...  \n",
       "1  POWER BOOST™ Ingredients   Guaranteed For 12 Y...  \n",
       "2  Long-Lasting Batteries Designed for Dependabil...  \n",
       "3  Long-Lasting Batteries Designed for Dependabil...  \n",
       "4  Our Longest Lasting Lithium Coin Battery Ever ...  "
      ]
     },
     "execution_count": 22,
     "metadata": {},
     "output_type": "execute_result"
    }
   ],
   "source": [
    "items.head()"
   ]
  },
  {
   "cell_type": "code",
   "execution_count": 23,
   "id": "e500a389",
   "metadata": {},
   "outputs": [
    {
     "data": {
      "text/plain": [
       "14"
      ]
     },
     "execution_count": 23,
     "metadata": {},
     "output_type": "execute_result"
    }
   ],
   "source": [
    "items.isna().sum().sum()"
   ]
  },
  {
   "cell_type": "code",
   "execution_count": 24,
   "id": "faaa4656",
   "metadata": {},
   "outputs": [],
   "source": [
    "items = items.dropna().reset_index(drop=True)"
   ]
  },
  {
   "cell_type": "code",
   "execution_count": 25,
   "id": "32355fb0",
   "metadata": {},
   "outputs": [
    {
     "data": {
      "text/plain": [
       "0"
      ]
     },
     "execution_count": 25,
     "metadata": {},
     "output_type": "execute_result"
    }
   ],
   "source": [
    "items.isna().sum().sum()"
   ]
  },
  {
   "cell_type": "code",
   "execution_count": 26,
   "id": "9a966884",
   "metadata": {
    "scrolled": true
   },
   "outputs": [
    {
     "data": {
      "text/html": [
       "<div>\n",
       "<style scoped>\n",
       "    .dataframe tbody tr th:only-of-type {\n",
       "        vertical-align: middle;\n",
       "    }\n",
       "\n",
       "    .dataframe tbody tr th {\n",
       "        vertical-align: top;\n",
       "    }\n",
       "\n",
       "    .dataframe thead th {\n",
       "        text-align: right;\n",
       "    }\n",
       "</style>\n",
       "<table border=\"1\" class=\"dataframe\">\n",
       "  <thead>\n",
       "    <tr style=\"text-align: right;\">\n",
       "      <th></th>\n",
       "      <th>Sub Category</th>\n",
       "      <th>Price</th>\n",
       "      <th>Discount</th>\n",
       "      <th>Rating</th>\n",
       "      <th>Title</th>\n",
       "      <th>Currency</th>\n",
       "      <th>Feature</th>\n",
       "    </tr>\n",
       "  </thead>\n",
       "  <tbody>\n",
       "    <tr>\n",
       "      <th>0</th>\n",
       "      <td>Batteries</td>\n",
       "      <td>$14.99</td>\n",
       "      <td>No Discount</td>\n",
       "      <td>Rated 4.8 out of 5 stars based on 125 reviews.</td>\n",
       "      <td>Duracell 2032 Lithium Coin Batteries, 12-count</td>\n",
       "      <td>$</td>\n",
       "      <td>Our Longest Lasting Lithium Coin Battery Ever ...</td>\n",
       "    </tr>\n",
       "    <tr>\n",
       "      <th>1</th>\n",
       "      <td>Cameras &amp; Camcorders</td>\n",
       "      <td>$289.99</td>\n",
       "      <td>Price valid through 1/21/24</td>\n",
       "      <td>Rated 4.2 out of 5 stars based on 238 reviews.</td>\n",
       "      <td>GoPro HERO11 Black Action Camera Bundle</td>\n",
       "      <td>$</td>\n",
       "      <td>Also Includes: Shorty Hand Grip, Spare Enduro ...</td>\n",
       "    </tr>\n",
       "    <tr>\n",
       "      <th>2</th>\n",
       "      <td>Cameras &amp; Camcorders</td>\n",
       "      <td>$399.99</td>\n",
       "      <td>Price valid through 3/31/24</td>\n",
       "      <td>Rated 4.4 out of 5 stars based on 99 reviews.</td>\n",
       "      <td>Insta360 X3 - 5.7K 360° Action Camera Adventur...</td>\n",
       "      <td>$</td>\n",
       "      <td>X3 Captures 5.7K 360 Active HDR Video   Dual 1...</td>\n",
       "    </tr>\n",
       "    <tr>\n",
       "      <th>3</th>\n",
       "      <td>Cameras &amp; Camcorders</td>\n",
       "      <td>$429.99</td>\n",
       "      <td>No Discount</td>\n",
       "      <td>Rated 4.4 out of 5 stars based on 115 reviews.</td>\n",
       "      <td>DJI Mini 3 Drone Aerial Camera Bundle</td>\n",
       "      <td>$</td>\n",
       "      <td>Less Than 249g (0.55lbs) Ultralight and Foldab...</td>\n",
       "    </tr>\n",
       "    <tr>\n",
       "      <th>4</th>\n",
       "      <td>Cameras &amp; Camcorders</td>\n",
       "      <td>$239.97</td>\n",
       "      <td>No Discount</td>\n",
       "      <td>Rated 4.1 out of 5 stars based on 311 reviews.</td>\n",
       "      <td>GoPro HERO10 Black Action Camera Bundle</td>\n",
       "      <td>$</td>\n",
       "      <td>Also Includes: Extra Battery/Charger, Compact ...</td>\n",
       "    </tr>\n",
       "  </tbody>\n",
       "</table>\n",
       "</div>"
      ],
      "text/plain": [
       "           Sub Category     Price                     Discount  \\\n",
       "0             Batteries   $14.99                   No Discount   \n",
       "1  Cameras & Camcorders  $289.99   Price valid through 1/21/24   \n",
       "2  Cameras & Camcorders  $399.99   Price valid through 3/31/24   \n",
       "3  Cameras & Camcorders  $429.99                   No Discount   \n",
       "4  Cameras & Camcorders  $239.97                   No Discount   \n",
       "\n",
       "                                           Rating  \\\n",
       "0  Rated 4.8 out of 5 stars based on 125 reviews.   \n",
       "1  Rated 4.2 out of 5 stars based on 238 reviews.   \n",
       "2   Rated 4.4 out of 5 stars based on 99 reviews.   \n",
       "3  Rated 4.4 out of 5 stars based on 115 reviews.   \n",
       "4  Rated 4.1 out of 5 stars based on 311 reviews.   \n",
       "\n",
       "                                               Title Currency  \\\n",
       "0     Duracell 2032 Lithium Coin Batteries, 12-count        $   \n",
       "1            GoPro HERO11 Black Action Camera Bundle        $   \n",
       "2  Insta360 X3 - 5.7K 360° Action Camera Adventur...        $   \n",
       "3              DJI Mini 3 Drone Aerial Camera Bundle        $   \n",
       "4            GoPro HERO10 Black Action Camera Bundle        $   \n",
       "\n",
       "                                             Feature  \n",
       "0  Our Longest Lasting Lithium Coin Battery Ever ...  \n",
       "1  Also Includes: Shorty Hand Grip, Spare Enduro ...  \n",
       "2  X3 Captures 5.7K 360 Active HDR Video   Dual 1...  \n",
       "3  Less Than 249g (0.55lbs) Ultralight and Foldab...  \n",
       "4  Also Includes: Extra Battery/Charger, Compact ...  "
      ]
     },
     "execution_count": 26,
     "metadata": {},
     "output_type": "execute_result"
    }
   ],
   "source": [
    "items.head()"
   ]
  },
  {
   "cell_type": "code",
   "execution_count": 27,
   "id": "f29abd12",
   "metadata": {},
   "outputs": [],
   "source": [
    "items2 = items[['Title', 'Feature', 'Price']].copy()"
   ]
  },
  {
   "cell_type": "code",
   "execution_count": 28,
   "id": "f1e02e96",
   "metadata": {},
   "outputs": [],
   "source": [
    "items2.rename(columns={'Title': 'ItemName', 'Feature': 'Description'}, inplace=True)"
   ]
  },
  {
   "cell_type": "code",
   "execution_count": 29,
   "id": "d152a338",
   "metadata": {},
   "outputs": [
    {
     "data": {
      "text/html": [
       "<div>\n",
       "<style scoped>\n",
       "    .dataframe tbody tr th:only-of-type {\n",
       "        vertical-align: middle;\n",
       "    }\n",
       "\n",
       "    .dataframe tbody tr th {\n",
       "        vertical-align: top;\n",
       "    }\n",
       "\n",
       "    .dataframe thead th {\n",
       "        text-align: right;\n",
       "    }\n",
       "</style>\n",
       "<table border=\"1\" class=\"dataframe\">\n",
       "  <thead>\n",
       "    <tr style=\"text-align: right;\">\n",
       "      <th></th>\n",
       "      <th>ItemName</th>\n",
       "      <th>Description</th>\n",
       "      <th>Price</th>\n",
       "    </tr>\n",
       "  </thead>\n",
       "  <tbody>\n",
       "    <tr>\n",
       "      <th>0</th>\n",
       "      <td>Duracell 2032 Lithium Coin Batteries, 12-count</td>\n",
       "      <td>Our Longest Lasting Lithium Coin Battery Ever ...</td>\n",
       "      <td>$14.99</td>\n",
       "    </tr>\n",
       "    <tr>\n",
       "      <th>1</th>\n",
       "      <td>GoPro HERO11 Black Action Camera Bundle</td>\n",
       "      <td>Also Includes: Shorty Hand Grip, Spare Enduro ...</td>\n",
       "      <td>$289.99</td>\n",
       "    </tr>\n",
       "    <tr>\n",
       "      <th>2</th>\n",
       "      <td>Insta360 X3 - 5.7K 360° Action Camera Adventur...</td>\n",
       "      <td>X3 Captures 5.7K 360 Active HDR Video   Dual 1...</td>\n",
       "      <td>$399.99</td>\n",
       "    </tr>\n",
       "    <tr>\n",
       "      <th>3</th>\n",
       "      <td>DJI Mini 3 Drone Aerial Camera Bundle</td>\n",
       "      <td>Less Than 249g (0.55lbs) Ultralight and Foldab...</td>\n",
       "      <td>$429.99</td>\n",
       "    </tr>\n",
       "    <tr>\n",
       "      <th>4</th>\n",
       "      <td>GoPro HERO10 Black Action Camera Bundle</td>\n",
       "      <td>Also Includes: Extra Battery/Charger, Compact ...</td>\n",
       "      <td>$239.97</td>\n",
       "    </tr>\n",
       "  </tbody>\n",
       "</table>\n",
       "</div>"
      ],
      "text/plain": [
       "                                            ItemName  \\\n",
       "0     Duracell 2032 Lithium Coin Batteries, 12-count   \n",
       "1            GoPro HERO11 Black Action Camera Bundle   \n",
       "2  Insta360 X3 - 5.7K 360° Action Camera Adventur...   \n",
       "3              DJI Mini 3 Drone Aerial Camera Bundle   \n",
       "4            GoPro HERO10 Black Action Camera Bundle   \n",
       "\n",
       "                                         Description     Price  \n",
       "0  Our Longest Lasting Lithium Coin Battery Ever ...   $14.99   \n",
       "1  Also Includes: Shorty Hand Grip, Spare Enduro ...  $289.99   \n",
       "2  X3 Captures 5.7K 360 Active HDR Video   Dual 1...  $399.99   \n",
       "3  Less Than 249g (0.55lbs) Ultralight and Foldab...  $429.99   \n",
       "4  Also Includes: Extra Battery/Charger, Compact ...  $239.97   "
      ]
     },
     "execution_count": 29,
     "metadata": {},
     "output_type": "execute_result"
    }
   ],
   "source": [
    "items2.head()"
   ]
  },
  {
   "cell_type": "code",
   "execution_count": 30,
   "id": "0d74d722",
   "metadata": {},
   "outputs": [],
   "source": [
    "items2['Price'] = items2['Price'].str.replace('$', '')"
   ]
  },
  {
   "cell_type": "code",
   "execution_count": 31,
   "id": "1f2c3553",
   "metadata": {},
   "outputs": [
    {
     "data": {
      "text/html": [
       "<div>\n",
       "<style scoped>\n",
       "    .dataframe tbody tr th:only-of-type {\n",
       "        vertical-align: middle;\n",
       "    }\n",
       "\n",
       "    .dataframe tbody tr th {\n",
       "        vertical-align: top;\n",
       "    }\n",
       "\n",
       "    .dataframe thead th {\n",
       "        text-align: right;\n",
       "    }\n",
       "</style>\n",
       "<table border=\"1\" class=\"dataframe\">\n",
       "  <thead>\n",
       "    <tr style=\"text-align: right;\">\n",
       "      <th></th>\n",
       "      <th>ItemName</th>\n",
       "      <th>Description</th>\n",
       "      <th>Price</th>\n",
       "    </tr>\n",
       "  </thead>\n",
       "  <tbody>\n",
       "    <tr>\n",
       "      <th>0</th>\n",
       "      <td>Duracell 2032 Lithium Coin Batteries, 12-count</td>\n",
       "      <td>Our Longest Lasting Lithium Coin Battery Ever ...</td>\n",
       "      <td>14.99</td>\n",
       "    </tr>\n",
       "    <tr>\n",
       "      <th>1</th>\n",
       "      <td>GoPro HERO11 Black Action Camera Bundle</td>\n",
       "      <td>Also Includes: Shorty Hand Grip, Spare Enduro ...</td>\n",
       "      <td>289.99</td>\n",
       "    </tr>\n",
       "    <tr>\n",
       "      <th>2</th>\n",
       "      <td>Insta360 X3 - 5.7K 360° Action Camera Adventur...</td>\n",
       "      <td>X3 Captures 5.7K 360 Active HDR Video   Dual 1...</td>\n",
       "      <td>399.99</td>\n",
       "    </tr>\n",
       "    <tr>\n",
       "      <th>3</th>\n",
       "      <td>DJI Mini 3 Drone Aerial Camera Bundle</td>\n",
       "      <td>Less Than 249g (0.55lbs) Ultralight and Foldab...</td>\n",
       "      <td>429.99</td>\n",
       "    </tr>\n",
       "    <tr>\n",
       "      <th>4</th>\n",
       "      <td>GoPro HERO10 Black Action Camera Bundle</td>\n",
       "      <td>Also Includes: Extra Battery/Charger, Compact ...</td>\n",
       "      <td>239.97</td>\n",
       "    </tr>\n",
       "    <tr>\n",
       "      <th>...</th>\n",
       "      <td>...</td>\n",
       "      <td>...</td>\n",
       "      <td>...</td>\n",
       "    </tr>\n",
       "    <tr>\n",
       "      <th>627</th>\n",
       "      <td>Arcade1Up Infinity Game Table 32”, $100 Game C...</td>\n",
       "      <td>Tactile Feedback to add Levels of Immersion   ...</td>\n",
       "      <td>949.99</td>\n",
       "    </tr>\n",
       "    <tr>\n",
       "      <th>628</th>\n",
       "      <td>Arcade1Up Infinity Game Board 18.5”, $25 Game ...</td>\n",
       "      <td>50 Board Games and Activities Included   18.5-...</td>\n",
       "      <td>449.99</td>\n",
       "    </tr>\n",
       "    <tr>\n",
       "      <th>629</th>\n",
       "      <td>Arcade1Up NBA Jam Partycade 3 Games in 1</td>\n",
       "      <td>3 Games Included   17-inch LCD Color Screen   ...</td>\n",
       "      <td>199.99</td>\n",
       "    </tr>\n",
       "    <tr>\n",
       "      <th>630</th>\n",
       "      <td>Backbone One (Lightning) - PlayStation Edition...</td>\n",
       "      <td>The Backbone App is Your Gaming &amp; Streaming Hu...</td>\n",
       "      <td>49.97</td>\n",
       "    </tr>\n",
       "    <tr>\n",
       "      <th>631</th>\n",
       "      <td>Xbox Series X Diablo IV Bundle with Additional...</td>\n",
       "      <td>Xbox Series X Console   Diablo® IV for Xbox On...</td>\n",
       "      <td>599.99</td>\n",
       "    </tr>\n",
       "  </tbody>\n",
       "</table>\n",
       "<p>632 rows × 3 columns</p>\n",
       "</div>"
      ],
      "text/plain": [
       "                                              ItemName  \\\n",
       "0       Duracell 2032 Lithium Coin Batteries, 12-count   \n",
       "1              GoPro HERO11 Black Action Camera Bundle   \n",
       "2    Insta360 X3 - 5.7K 360° Action Camera Adventur...   \n",
       "3                DJI Mini 3 Drone Aerial Camera Bundle   \n",
       "4              GoPro HERO10 Black Action Camera Bundle   \n",
       "..                                                 ...   \n",
       "627  Arcade1Up Infinity Game Table 32”, $100 Game C...   \n",
       "628  Arcade1Up Infinity Game Board 18.5”, $25 Game ...   \n",
       "629           Arcade1Up NBA Jam Partycade 3 Games in 1   \n",
       "630  Backbone One (Lightning) - PlayStation Edition...   \n",
       "631  Xbox Series X Diablo IV Bundle with Additional...   \n",
       "\n",
       "                                           Description    Price  \n",
       "0    Our Longest Lasting Lithium Coin Battery Ever ...   14.99   \n",
       "1    Also Includes: Shorty Hand Grip, Spare Enduro ...  289.99   \n",
       "2    X3 Captures 5.7K 360 Active HDR Video   Dual 1...  399.99   \n",
       "3    Less Than 249g (0.55lbs) Ultralight and Foldab...  429.99   \n",
       "4    Also Includes: Extra Battery/Charger, Compact ...  239.97   \n",
       "..                                                 ...      ...  \n",
       "627  Tactile Feedback to add Levels of Immersion   ...  949.99   \n",
       "628  50 Board Games and Activities Included   18.5-...  449.99   \n",
       "629  3 Games Included   17-inch LCD Color Screen   ...  199.99   \n",
       "630  The Backbone App is Your Gaming & Streaming Hu...   49.97   \n",
       "631  Xbox Series X Console   Diablo® IV for Xbox On...  599.99   \n",
       "\n",
       "[632 rows x 3 columns]"
      ]
     },
     "execution_count": 31,
     "metadata": {},
     "output_type": "execute_result"
    }
   ],
   "source": [
    "items2"
   ]
  },
  {
   "cell_type": "code",
   "execution_count": 32,
   "id": "da1e3168",
   "metadata": {},
   "outputs": [],
   "source": [
    "items2['ItemID'] = range(1, len(items2) + 1)"
   ]
  },
  {
   "cell_type": "code",
   "execution_count": 33,
   "id": "342e59a8",
   "metadata": {},
   "outputs": [
    {
     "data": {
      "text/html": [
       "<div>\n",
       "<style scoped>\n",
       "    .dataframe tbody tr th:only-of-type {\n",
       "        vertical-align: middle;\n",
       "    }\n",
       "\n",
       "    .dataframe tbody tr th {\n",
       "        vertical-align: top;\n",
       "    }\n",
       "\n",
       "    .dataframe thead th {\n",
       "        text-align: right;\n",
       "    }\n",
       "</style>\n",
       "<table border=\"1\" class=\"dataframe\">\n",
       "  <thead>\n",
       "    <tr style=\"text-align: right;\">\n",
       "      <th></th>\n",
       "      <th>ItemName</th>\n",
       "      <th>Description</th>\n",
       "      <th>Price</th>\n",
       "      <th>ItemID</th>\n",
       "    </tr>\n",
       "  </thead>\n",
       "  <tbody>\n",
       "    <tr>\n",
       "      <th>0</th>\n",
       "      <td>Duracell 2032 Lithium Coin Batteries, 12-count</td>\n",
       "      <td>Our Longest Lasting Lithium Coin Battery Ever ...</td>\n",
       "      <td>14.99</td>\n",
       "      <td>1</td>\n",
       "    </tr>\n",
       "    <tr>\n",
       "      <th>1</th>\n",
       "      <td>GoPro HERO11 Black Action Camera Bundle</td>\n",
       "      <td>Also Includes: Shorty Hand Grip, Spare Enduro ...</td>\n",
       "      <td>289.99</td>\n",
       "      <td>2</td>\n",
       "    </tr>\n",
       "    <tr>\n",
       "      <th>2</th>\n",
       "      <td>Insta360 X3 - 5.7K 360° Action Camera Adventur...</td>\n",
       "      <td>X3 Captures 5.7K 360 Active HDR Video   Dual 1...</td>\n",
       "      <td>399.99</td>\n",
       "      <td>3</td>\n",
       "    </tr>\n",
       "    <tr>\n",
       "      <th>3</th>\n",
       "      <td>DJI Mini 3 Drone Aerial Camera Bundle</td>\n",
       "      <td>Less Than 249g (0.55lbs) Ultralight and Foldab...</td>\n",
       "      <td>429.99</td>\n",
       "      <td>4</td>\n",
       "    </tr>\n",
       "    <tr>\n",
       "      <th>4</th>\n",
       "      <td>GoPro HERO10 Black Action Camera Bundle</td>\n",
       "      <td>Also Includes: Extra Battery/Charger, Compact ...</td>\n",
       "      <td>239.97</td>\n",
       "      <td>5</td>\n",
       "    </tr>\n",
       "  </tbody>\n",
       "</table>\n",
       "</div>"
      ],
      "text/plain": [
       "                                            ItemName  \\\n",
       "0     Duracell 2032 Lithium Coin Batteries, 12-count   \n",
       "1            GoPro HERO11 Black Action Camera Bundle   \n",
       "2  Insta360 X3 - 5.7K 360° Action Camera Adventur...   \n",
       "3              DJI Mini 3 Drone Aerial Camera Bundle   \n",
       "4            GoPro HERO10 Black Action Camera Bundle   \n",
       "\n",
       "                                         Description    Price  ItemID  \n",
       "0  Our Longest Lasting Lithium Coin Battery Ever ...   14.99        1  \n",
       "1  Also Includes: Shorty Hand Grip, Spare Enduro ...  289.99        2  \n",
       "2  X3 Captures 5.7K 360 Active HDR Video   Dual 1...  399.99        3  \n",
       "3  Less Than 249g (0.55lbs) Ultralight and Foldab...  429.99        4  \n",
       "4  Also Includes: Extra Battery/Charger, Compact ...  239.97        5  "
      ]
     },
     "execution_count": 33,
     "metadata": {},
     "output_type": "execute_result"
    }
   ],
   "source": [
    "items2.head()"
   ]
  },
  {
   "cell_type": "code",
   "execution_count": 34,
   "id": "ee8095bb",
   "metadata": {},
   "outputs": [],
   "source": [
    "items2['UserID'] = np.random.randint(1, 2501, len(items2))"
   ]
  },
  {
   "cell_type": "code",
   "execution_count": 35,
   "id": "3495a2d5",
   "metadata": {},
   "outputs": [
    {
     "data": {
      "text/html": [
       "<div>\n",
       "<style scoped>\n",
       "    .dataframe tbody tr th:only-of-type {\n",
       "        vertical-align: middle;\n",
       "    }\n",
       "\n",
       "    .dataframe tbody tr th {\n",
       "        vertical-align: top;\n",
       "    }\n",
       "\n",
       "    .dataframe thead th {\n",
       "        text-align: right;\n",
       "    }\n",
       "</style>\n",
       "<table border=\"1\" class=\"dataframe\">\n",
       "  <thead>\n",
       "    <tr style=\"text-align: right;\">\n",
       "      <th></th>\n",
       "      <th>ItemName</th>\n",
       "      <th>Description</th>\n",
       "      <th>Price</th>\n",
       "      <th>ItemID</th>\n",
       "      <th>UserID</th>\n",
       "    </tr>\n",
       "  </thead>\n",
       "  <tbody>\n",
       "    <tr>\n",
       "      <th>0</th>\n",
       "      <td>Duracell 2032 Lithium Coin Batteries, 12-count</td>\n",
       "      <td>Our Longest Lasting Lithium Coin Battery Ever ...</td>\n",
       "      <td>14.99</td>\n",
       "      <td>1</td>\n",
       "      <td>1181</td>\n",
       "    </tr>\n",
       "    <tr>\n",
       "      <th>1</th>\n",
       "      <td>GoPro HERO11 Black Action Camera Bundle</td>\n",
       "      <td>Also Includes: Shorty Hand Grip, Spare Enduro ...</td>\n",
       "      <td>289.99</td>\n",
       "      <td>2</td>\n",
       "      <td>1654</td>\n",
       "    </tr>\n",
       "    <tr>\n",
       "      <th>2</th>\n",
       "      <td>Insta360 X3 - 5.7K 360° Action Camera Adventur...</td>\n",
       "      <td>X3 Captures 5.7K 360 Active HDR Video   Dual 1...</td>\n",
       "      <td>399.99</td>\n",
       "      <td>3</td>\n",
       "      <td>1115</td>\n",
       "    </tr>\n",
       "    <tr>\n",
       "      <th>3</th>\n",
       "      <td>DJI Mini 3 Drone Aerial Camera Bundle</td>\n",
       "      <td>Less Than 249g (0.55lbs) Ultralight and Foldab...</td>\n",
       "      <td>429.99</td>\n",
       "      <td>4</td>\n",
       "      <td>498</td>\n",
       "    </tr>\n",
       "    <tr>\n",
       "      <th>4</th>\n",
       "      <td>GoPro HERO10 Black Action Camera Bundle</td>\n",
       "      <td>Also Includes: Extra Battery/Charger, Compact ...</td>\n",
       "      <td>239.97</td>\n",
       "      <td>5</td>\n",
       "      <td>1499</td>\n",
       "    </tr>\n",
       "  </tbody>\n",
       "</table>\n",
       "</div>"
      ],
      "text/plain": [
       "                                            ItemName  \\\n",
       "0     Duracell 2032 Lithium Coin Batteries, 12-count   \n",
       "1            GoPro HERO11 Black Action Camera Bundle   \n",
       "2  Insta360 X3 - 5.7K 360° Action Camera Adventur...   \n",
       "3              DJI Mini 3 Drone Aerial Camera Bundle   \n",
       "4            GoPro HERO10 Black Action Camera Bundle   \n",
       "\n",
       "                                         Description    Price  ItemID  UserID  \n",
       "0  Our Longest Lasting Lithium Coin Battery Ever ...   14.99        1    1181  \n",
       "1  Also Includes: Shorty Hand Grip, Spare Enduro ...  289.99        2    1654  \n",
       "2  X3 Captures 5.7K 360 Active HDR Video   Dual 1...  399.99        3    1115  \n",
       "3  Less Than 249g (0.55lbs) Ultralight and Foldab...  429.99        4     498  \n",
       "4  Also Includes: Extra Battery/Charger, Compact ...  239.97        5    1499  "
      ]
     },
     "execution_count": 35,
     "metadata": {},
     "output_type": "execute_result"
    }
   ],
   "source": [
    "items2.head()"
   ]
  },
  {
   "cell_type": "code",
   "execution_count": 36,
   "id": "e025b6fb",
   "metadata": {},
   "outputs": [],
   "source": [
    "items2 = items2[['ItemID', 'UserID', 'ItemName', 'Description', 'Price']]"
   ]
  },
  {
   "cell_type": "code",
   "execution_count": 37,
   "id": "2bb833ad",
   "metadata": {},
   "outputs": [
    {
     "data": {
      "text/html": [
       "<div>\n",
       "<style scoped>\n",
       "    .dataframe tbody tr th:only-of-type {\n",
       "        vertical-align: middle;\n",
       "    }\n",
       "\n",
       "    .dataframe tbody tr th {\n",
       "        vertical-align: top;\n",
       "    }\n",
       "\n",
       "    .dataframe thead th {\n",
       "        text-align: right;\n",
       "    }\n",
       "</style>\n",
       "<table border=\"1\" class=\"dataframe\">\n",
       "  <thead>\n",
       "    <tr style=\"text-align: right;\">\n",
       "      <th></th>\n",
       "      <th>ItemID</th>\n",
       "      <th>UserID</th>\n",
       "      <th>ItemName</th>\n",
       "      <th>Description</th>\n",
       "      <th>Price</th>\n",
       "    </tr>\n",
       "  </thead>\n",
       "  <tbody>\n",
       "    <tr>\n",
       "      <th>0</th>\n",
       "      <td>1</td>\n",
       "      <td>1181</td>\n",
       "      <td>Duracell 2032 Lithium Coin Batteries, 12-count</td>\n",
       "      <td>Our Longest Lasting Lithium Coin Battery Ever ...</td>\n",
       "      <td>14.99</td>\n",
       "    </tr>\n",
       "    <tr>\n",
       "      <th>1</th>\n",
       "      <td>2</td>\n",
       "      <td>1654</td>\n",
       "      <td>GoPro HERO11 Black Action Camera Bundle</td>\n",
       "      <td>Also Includes: Shorty Hand Grip, Spare Enduro ...</td>\n",
       "      <td>289.99</td>\n",
       "    </tr>\n",
       "    <tr>\n",
       "      <th>2</th>\n",
       "      <td>3</td>\n",
       "      <td>1115</td>\n",
       "      <td>Insta360 X3 - 5.7K 360° Action Camera Adventur...</td>\n",
       "      <td>X3 Captures 5.7K 360 Active HDR Video   Dual 1...</td>\n",
       "      <td>399.99</td>\n",
       "    </tr>\n",
       "    <tr>\n",
       "      <th>3</th>\n",
       "      <td>4</td>\n",
       "      <td>498</td>\n",
       "      <td>DJI Mini 3 Drone Aerial Camera Bundle</td>\n",
       "      <td>Less Than 249g (0.55lbs) Ultralight and Foldab...</td>\n",
       "      <td>429.99</td>\n",
       "    </tr>\n",
       "    <tr>\n",
       "      <th>4</th>\n",
       "      <td>5</td>\n",
       "      <td>1499</td>\n",
       "      <td>GoPro HERO10 Black Action Camera Bundle</td>\n",
       "      <td>Also Includes: Extra Battery/Charger, Compact ...</td>\n",
       "      <td>239.97</td>\n",
       "    </tr>\n",
       "  </tbody>\n",
       "</table>\n",
       "</div>"
      ],
      "text/plain": [
       "   ItemID  UserID                                           ItemName  \\\n",
       "0       1    1181     Duracell 2032 Lithium Coin Batteries, 12-count   \n",
       "1       2    1654            GoPro HERO11 Black Action Camera Bundle   \n",
       "2       3    1115  Insta360 X3 - 5.7K 360° Action Camera Adventur...   \n",
       "3       4     498              DJI Mini 3 Drone Aerial Camera Bundle   \n",
       "4       5    1499            GoPro HERO10 Black Action Camera Bundle   \n",
       "\n",
       "                                         Description    Price  \n",
       "0  Our Longest Lasting Lithium Coin Battery Ever ...   14.99   \n",
       "1  Also Includes: Shorty Hand Grip, Spare Enduro ...  289.99   \n",
       "2  X3 Captures 5.7K 360 Active HDR Video   Dual 1...  399.99   \n",
       "3  Less Than 249g (0.55lbs) Ultralight and Foldab...  429.99   \n",
       "4  Also Includes: Extra Battery/Charger, Compact ...  239.97   "
      ]
     },
     "execution_count": 37,
     "metadata": {},
     "output_type": "execute_result"
    }
   ],
   "source": [
    "items2.head()"
   ]
  },
  {
   "cell_type": "code",
   "execution_count": 38,
   "id": "7a743512",
   "metadata": {},
   "outputs": [
    {
     "data": {
      "text/plain": [
       "0"
      ]
     },
     "execution_count": 38,
     "metadata": {},
     "output_type": "execute_result"
    }
   ],
   "source": [
    "items2.isna().sum().sum()"
   ]
  },
  {
   "cell_type": "code",
   "execution_count": 39,
   "id": "86e04edd",
   "metadata": {},
   "outputs": [
    {
     "data": {
      "text/html": [
       "<div>\n",
       "<style scoped>\n",
       "    .dataframe tbody tr th:only-of-type {\n",
       "        vertical-align: middle;\n",
       "    }\n",
       "\n",
       "    .dataframe tbody tr th {\n",
       "        vertical-align: top;\n",
       "    }\n",
       "\n",
       "    .dataframe thead th {\n",
       "        text-align: right;\n",
       "    }\n",
       "</style>\n",
       "<table border=\"1\" class=\"dataframe\">\n",
       "  <thead>\n",
       "    <tr style=\"text-align: right;\">\n",
       "      <th></th>\n",
       "      <th>UserID</th>\n",
       "      <th>Count</th>\n",
       "    </tr>\n",
       "  </thead>\n",
       "  <tbody>\n",
       "    <tr>\n",
       "      <th>8</th>\n",
       "      <td>43</td>\n",
       "      <td>2</td>\n",
       "    </tr>\n",
       "    <tr>\n",
       "      <th>16</th>\n",
       "      <td>85</td>\n",
       "      <td>2</td>\n",
       "    </tr>\n",
       "    <tr>\n",
       "      <th>17</th>\n",
       "      <td>90</td>\n",
       "      <td>3</td>\n",
       "    </tr>\n",
       "    <tr>\n",
       "      <th>20</th>\n",
       "      <td>100</td>\n",
       "      <td>2</td>\n",
       "    </tr>\n",
       "    <tr>\n",
       "      <th>28</th>\n",
       "      <td>134</td>\n",
       "      <td>2</td>\n",
       "    </tr>\n",
       "    <tr>\n",
       "      <th>...</th>\n",
       "      <td>...</td>\n",
       "      <td>...</td>\n",
       "    </tr>\n",
       "    <tr>\n",
       "      <th>522</th>\n",
       "      <td>2372</td>\n",
       "      <td>2</td>\n",
       "    </tr>\n",
       "    <tr>\n",
       "      <th>528</th>\n",
       "      <td>2398</td>\n",
       "      <td>2</td>\n",
       "    </tr>\n",
       "    <tr>\n",
       "      <th>537</th>\n",
       "      <td>2425</td>\n",
       "      <td>2</td>\n",
       "    </tr>\n",
       "    <tr>\n",
       "      <th>547</th>\n",
       "      <td>2485</td>\n",
       "      <td>2</td>\n",
       "    </tr>\n",
       "    <tr>\n",
       "      <th>552</th>\n",
       "      <td>2499</td>\n",
       "      <td>2</td>\n",
       "    </tr>\n",
       "  </tbody>\n",
       "</table>\n",
       "<p>72 rows × 2 columns</p>\n",
       "</div>"
      ],
      "text/plain": [
       "     UserID  Count\n",
       "8        43      2\n",
       "16       85      2\n",
       "17       90      3\n",
       "20      100      2\n",
       "28      134      2\n",
       "..      ...    ...\n",
       "522    2372      2\n",
       "528    2398      2\n",
       "537    2425      2\n",
       "547    2485      2\n",
       "552    2499      2\n",
       "\n",
       "[72 rows x 2 columns]"
      ]
     },
     "execution_count": 39,
     "metadata": {},
     "output_type": "execute_result"
    }
   ],
   "source": [
    "groupby = items2.groupby('UserID').size().reset_index(name='Count')\n",
    "groupby[groupby['Count'] > 1]"
   ]
  },
  {
   "cell_type": "markdown",
   "id": "0a338ef8",
   "metadata": {},
   "source": [
    "## listings schema"
   ]
  },
  {
   "cell_type": "code",
   "execution_count": 40,
   "id": "43ccb917",
   "metadata": {},
   "outputs": [
    {
     "ename": "ValueError",
     "evalue": "empty range for randrange() (1, 1, 0)",
     "output_type": "error",
     "traceback": [
      "\u001b[1;31m---------------------------------------------------------------------------\u001b[0m",
      "\u001b[1;31mValueError\u001b[0m                                Traceback (most recent call last)",
      "Cell \u001b[1;32mIn[40], line 22\u001b[0m\n\u001b[0;32m     19\u001b[0m end_date_limit \u001b[38;5;241m=\u001b[39m datetime\u001b[38;5;241m.\u001b[39mstrptime(\u001b[38;5;124m'\u001b[39m\u001b[38;5;124m01-09-2024\u001b[39m\u001b[38;5;124m'\u001b[39m, \u001b[38;5;124m'\u001b[39m\u001b[38;5;132;01m%d\u001b[39;00m\u001b[38;5;124m-\u001b[39m\u001b[38;5;124m%\u001b[39m\u001b[38;5;124mm-\u001b[39m\u001b[38;5;124m%\u001b[39m\u001b[38;5;124mY\u001b[39m\u001b[38;5;124m'\u001b[39m)\n\u001b[0;32m     21\u001b[0m start_dates \u001b[38;5;241m=\u001b[39m [start_date_base \u001b[38;5;241m+\u001b[39m timedelta(days\u001b[38;5;241m=\u001b[39mrandom\u001b[38;5;241m.\u001b[39mrandint(\u001b[38;5;241m0\u001b[39m, (end_date_limit \u001b[38;5;241m-\u001b[39m start_date_base)\u001b[38;5;241m.\u001b[39mdays)) \u001b[38;5;28;01mfor\u001b[39;00m _ \u001b[38;5;129;01min\u001b[39;00m \u001b[38;5;28mrange\u001b[39m(num_entries)]\n\u001b[1;32m---> 22\u001b[0m end_dates \u001b[38;5;241m=\u001b[39m \u001b[43m[\u001b[49m\u001b[43mstart_dates\u001b[49m\u001b[43m[\u001b[49m\u001b[43mi\u001b[49m\u001b[43m]\u001b[49m\u001b[43m \u001b[49m\u001b[38;5;241;43m+\u001b[39;49m\u001b[43m \u001b[49m\u001b[43mtimedelta\u001b[49m\u001b[43m(\u001b[49m\u001b[43mdays\u001b[49m\u001b[38;5;241;43m=\u001b[39;49m\u001b[43mrandom\u001b[49m\u001b[38;5;241;43m.\u001b[39;49m\u001b[43mrandint\u001b[49m\u001b[43m(\u001b[49m\u001b[38;5;241;43m1\u001b[39;49m\u001b[43m,\u001b[49m\u001b[43m \u001b[49m\u001b[43m(\u001b[49m\u001b[43mend_date_limit\u001b[49m\u001b[43m \u001b[49m\u001b[38;5;241;43m-\u001b[39;49m\u001b[43m \u001b[49m\u001b[43mstart_dates\u001b[49m\u001b[43m[\u001b[49m\u001b[43mi\u001b[49m\u001b[43m]\u001b[49m\u001b[43m)\u001b[49m\u001b[38;5;241;43m.\u001b[39;49m\u001b[43mdays\u001b[49m\u001b[43m)\u001b[49m\u001b[43m)\u001b[49m\u001b[43m \u001b[49m\u001b[38;5;28;43;01mfor\u001b[39;49;00m\u001b[43m \u001b[49m\u001b[43mi\u001b[49m\u001b[43m \u001b[49m\u001b[38;5;129;43;01min\u001b[39;49;00m\u001b[43m \u001b[49m\u001b[38;5;28;43mrange\u001b[39;49m\u001b[43m(\u001b[49m\u001b[43mnum_entries\u001b[49m\u001b[43m)\u001b[49m\u001b[43m]\u001b[49m\n\u001b[0;32m     24\u001b[0m \u001b[38;5;66;03m# Creating Return_Flag column with all values as True (1)\u001b[39;00m\n\u001b[0;32m     25\u001b[0m return_flag \u001b[38;5;241m=\u001b[39m [\u001b[38;5;241m1\u001b[39m] \u001b[38;5;241m*\u001b[39m num_entries\n",
      "Cell \u001b[1;32mIn[40], line 22\u001b[0m, in \u001b[0;36m<listcomp>\u001b[1;34m(.0)\u001b[0m\n\u001b[0;32m     19\u001b[0m end_date_limit \u001b[38;5;241m=\u001b[39m datetime\u001b[38;5;241m.\u001b[39mstrptime(\u001b[38;5;124m'\u001b[39m\u001b[38;5;124m01-09-2024\u001b[39m\u001b[38;5;124m'\u001b[39m, \u001b[38;5;124m'\u001b[39m\u001b[38;5;132;01m%d\u001b[39;00m\u001b[38;5;124m-\u001b[39m\u001b[38;5;124m%\u001b[39m\u001b[38;5;124mm-\u001b[39m\u001b[38;5;124m%\u001b[39m\u001b[38;5;124mY\u001b[39m\u001b[38;5;124m'\u001b[39m)\n\u001b[0;32m     21\u001b[0m start_dates \u001b[38;5;241m=\u001b[39m [start_date_base \u001b[38;5;241m+\u001b[39m timedelta(days\u001b[38;5;241m=\u001b[39mrandom\u001b[38;5;241m.\u001b[39mrandint(\u001b[38;5;241m0\u001b[39m, (end_date_limit \u001b[38;5;241m-\u001b[39m start_date_base)\u001b[38;5;241m.\u001b[39mdays)) \u001b[38;5;28;01mfor\u001b[39;00m _ \u001b[38;5;129;01min\u001b[39;00m \u001b[38;5;28mrange\u001b[39m(num_entries)]\n\u001b[1;32m---> 22\u001b[0m end_dates \u001b[38;5;241m=\u001b[39m [start_dates[i] \u001b[38;5;241m+\u001b[39m timedelta(days\u001b[38;5;241m=\u001b[39m\u001b[43mrandom\u001b[49m\u001b[38;5;241;43m.\u001b[39;49m\u001b[43mrandint\u001b[49m\u001b[43m(\u001b[49m\u001b[38;5;241;43m1\u001b[39;49m\u001b[43m,\u001b[49m\u001b[43m \u001b[49m\u001b[43m(\u001b[49m\u001b[43mend_date_limit\u001b[49m\u001b[43m \u001b[49m\u001b[38;5;241;43m-\u001b[39;49m\u001b[43m \u001b[49m\u001b[43mstart_dates\u001b[49m\u001b[43m[\u001b[49m\u001b[43mi\u001b[49m\u001b[43m]\u001b[49m\u001b[43m)\u001b[49m\u001b[38;5;241;43m.\u001b[39;49m\u001b[43mdays\u001b[49m\u001b[43m)\u001b[49m) \u001b[38;5;28;01mfor\u001b[39;00m i \u001b[38;5;129;01min\u001b[39;00m \u001b[38;5;28mrange\u001b[39m(num_entries)]\n\u001b[0;32m     24\u001b[0m \u001b[38;5;66;03m# Creating Return_Flag column with all values as True (1)\u001b[39;00m\n\u001b[0;32m     25\u001b[0m return_flag \u001b[38;5;241m=\u001b[39m [\u001b[38;5;241m1\u001b[39m] \u001b[38;5;241m*\u001b[39m num_entries\n",
      "File \u001b[1;32m~\\miniconda3\\Lib\\random.py:362\u001b[0m, in \u001b[0;36mRandom.randint\u001b[1;34m(self, a, b)\u001b[0m\n\u001b[0;32m    358\u001b[0m \u001b[38;5;28;01mdef\u001b[39;00m \u001b[38;5;21mrandint\u001b[39m(\u001b[38;5;28mself\u001b[39m, a, b):\n\u001b[0;32m    359\u001b[0m \u001b[38;5;250m    \u001b[39m\u001b[38;5;124;03m\"\"\"Return random integer in range [a, b], including both end points.\u001b[39;00m\n\u001b[0;32m    360\u001b[0m \u001b[38;5;124;03m    \"\"\"\u001b[39;00m\n\u001b[1;32m--> 362\u001b[0m     \u001b[38;5;28;01mreturn\u001b[39;00m \u001b[38;5;28;43mself\u001b[39;49m\u001b[38;5;241;43m.\u001b[39;49m\u001b[43mrandrange\u001b[49m\u001b[43m(\u001b[49m\u001b[43ma\u001b[49m\u001b[43m,\u001b[49m\u001b[43m \u001b[49m\u001b[43mb\u001b[49m\u001b[38;5;241;43m+\u001b[39;49m\u001b[38;5;241;43m1\u001b[39;49m\u001b[43m)\u001b[49m\n",
      "File \u001b[1;32m~\\miniconda3\\Lib\\random.py:345\u001b[0m, in \u001b[0;36mRandom.randrange\u001b[1;34m(self, start, stop, step)\u001b[0m\n\u001b[0;32m    343\u001b[0m     \u001b[38;5;28;01mif\u001b[39;00m width \u001b[38;5;241m>\u001b[39m \u001b[38;5;241m0\u001b[39m:\n\u001b[0;32m    344\u001b[0m         \u001b[38;5;28;01mreturn\u001b[39;00m istart \u001b[38;5;241m+\u001b[39m \u001b[38;5;28mself\u001b[39m\u001b[38;5;241m.\u001b[39m_randbelow(width)\n\u001b[1;32m--> 345\u001b[0m     \u001b[38;5;28;01mraise\u001b[39;00m \u001b[38;5;167;01mValueError\u001b[39;00m(\u001b[38;5;124m\"\u001b[39m\u001b[38;5;124mempty range for randrange() (\u001b[39m\u001b[38;5;132;01m%d\u001b[39;00m\u001b[38;5;124m, \u001b[39m\u001b[38;5;132;01m%d\u001b[39;00m\u001b[38;5;124m, \u001b[39m\u001b[38;5;132;01m%d\u001b[39;00m\u001b[38;5;124m)\u001b[39m\u001b[38;5;124m\"\u001b[39m \u001b[38;5;241m%\u001b[39m (istart, istop, width))\n\u001b[0;32m    347\u001b[0m \u001b[38;5;66;03m# Non-unit step argument supplied.\u001b[39;00m\n\u001b[0;32m    348\u001b[0m \u001b[38;5;28;01mif\u001b[39;00m istep \u001b[38;5;241m>\u001b[39m \u001b[38;5;241m0\u001b[39m:\n",
      "\u001b[1;31mValueError\u001b[0m: empty range for randrange() (1, 1, 0)"
     ]
    }
   ],
   "source": [
    "num_entries = 50\n",
    "\n",
    "# ListingID\n",
    "listing_id = range(1, num_entries + 1)\n",
    "\n",
    "# BorrowerID & LenderID\n",
    "borrower_id = np.random.randint(1, 2501, size=num_entries)\n",
    "lender_id = np.random.randint(1, 2501, size=num_entries)\n",
    "\n",
    "for i in range(num_entries):\n",
    "    while borrower_id[i] == lender_id[i]:\n",
    "        lender_id[i] = np.random.randint(1, 2501)\n",
    "\n",
    "# ItemsID\n",
    "item_ids = np.random.randint(1, 2501, size=num_entries)\n",
    "\n",
    "# StartDate & EndDate\n",
    "start_date_base = datetime.strptime('01-01-2024', '%d-%m-%Y')\n",
    "end_date_limit = datetime.strptime('01-09-2024', '%d-%m-%Y')\n",
    "\n",
    "start_dates = [start_date_base + timedelta(days=random.randint(0, (end_date_limit - start_date_base).days)) for _ in range(num_entries)]\n",
    "end_dates = [start_dates[i] + timedelta(days=random.randint(1, (end_date_limit - start_dates[i]).days)) for i in range(num_entries)]\n",
    "\n",
    "# Creating Return_Flag column with all values as True (1)\n",
    "return_flag = [1] * num_entries\n",
    "\n",
    "# Create the DataFrame\n",
    "listings = pd.DataFrame({\n",
    "    'ListingID': listing_id,\n",
    "    'BorrowerID': borrower_id,\n",
    "    'LenderID': lender_id,\n",
    "    'ItemsID': item_ids,\n",
    "    'StartDate': start_dates,\n",
    "    'EndDate': end_dates,\n",
    "    'Return_Flag': return_flag\n",
    "})\n",
    "\n"
   ]
  },
  {
   "cell_type": "code",
   "execution_count": null,
   "id": "76f03299",
   "metadata": {
    "scrolled": false
   },
   "outputs": [],
   "source": [
    "listings.head()"
   ]
  },
  {
   "cell_type": "markdown",
   "id": "aebb73b8",
   "metadata": {},
   "source": [
    "### small unit test practice"
   ]
  },
  {
   "cell_type": "code",
   "execution_count": null,
   "id": "6d98ef83",
   "metadata": {},
   "outputs": [],
   "source": [
    "def test_borrower_lender_ids(df):\n",
    "    for i in range(len(df)):\n",
    "        assert df.loc[i, 'BorrowerID'] != df.loc[i, 'LenderID'], \\\n",
    "            f\"BorrowerID and LenderID are the same for ListingID {df.loc[i, 'ListingID']}\"\n",
    "    print(\"No same ID\")\n",
    "\n",
    "test_borrower_lender_ids(listings)\n"
   ]
  },
  {
   "cell_type": "code",
   "execution_count": null,
   "id": "f1708c77",
   "metadata": {},
   "outputs": [],
   "source": [
    "def test_invalid_dates(df):\n",
    "    for i in range(len(df)):\n",
    "        assert df.loc[i, 'EndDate'] > df.loc[i, 'StartDate'], \\\n",
    "            f\"EndDate is not greater than StartDate for ListingID {df.loc[i, 'ListingID']}\"\n",
    "    print(\"No EndDate > StartDate\")\n",
    "test_invalid_dates(listings)"
   ]
  }
 ],
 "metadata": {
  "kernelspec": {
   "display_name": "Python 3 (ipykernel)",
   "language": "python",
   "name": "python3"
  },
  "language_info": {
   "codemirror_mode": {
    "name": "ipython",
    "version": 3
   },
   "file_extension": ".py",
   "mimetype": "text/x-python",
   "name": "python",
   "nbconvert_exporter": "python",
   "pygments_lexer": "ipython3",
   "version": "3.11.4"
  }
 },
 "nbformat": 4,
 "nbformat_minor": 5
}
