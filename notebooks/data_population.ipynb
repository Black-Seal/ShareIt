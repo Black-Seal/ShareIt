{
 "cells": [
  {
   "cell_type": "markdown",
   "id": "b7e6fad0",
   "metadata": {},
   "source": [
    "# Data preprocessing"
   ]
  },
  {
   "cell_type": "code",
   "execution_count": 1,
   "id": "7b1bf354",
   "metadata": {},
   "outputs": [
    {
     "data": {
      "text/plain": [
       "'C:\\\\Users\\\\quay\\\\Documents\\\\ShareIt\\\\notebooks'"
      ]
     },
     "execution_count": 1,
     "metadata": {},
     "output_type": "execute_result"
    }
   ],
   "source": [
    "pwd"
   ]
  },
  {
   "cell_type": "code",
   "execution_count": 2,
   "id": "f3b71849",
   "metadata": {},
   "outputs": [
    {
     "name": "stdout",
     "output_type": "stream",
     "text": [
      "C:\\Users\\quay\\Documents\\ShareIt\\data\\raw\n"
     ]
    }
   ],
   "source": [
    "cd ..\\data\\raw"
   ]
  },
  {
   "cell_type": "markdown",
   "id": "4ac47f2e",
   "metadata": {},
   "source": [
    "## Imports"
   ]
  },
  {
   "cell_type": "code",
   "execution_count": 3,
   "id": "24fabee3",
   "metadata": {},
   "outputs": [],
   "source": [
    "import pandas as pd\n",
    "import numpy as np\n",
    "from datetime import datetime, timedelta\n",
    "import random\n",
    "import secrets\n",
    "import string\n",
    "from pathlib import Path\n",
    "import re"
   ]
  },
  {
   "cell_type": "markdown",
   "id": "574e4d6e",
   "metadata": {},
   "source": [
    "## Reading files"
   ]
  },
  {
   "cell_type": "code",
   "execution_count": 4,
   "id": "7ce2e512",
   "metadata": {},
   "outputs": [],
   "source": [
    "users = pd.read_csv(\"amazon_prime_users.csv\")"
   ]
  },
  {
   "cell_type": "code",
   "execution_count": 5,
   "id": "8b4da5ad",
   "metadata": {},
   "outputs": [],
   "source": [
    "items = pd.read_csv(\"ElectronicsData.csv\")"
   ]
  },
  {
   "cell_type": "markdown",
   "id": "0b0d8101",
   "metadata": {},
   "source": [
    "## Data cleaning"
   ]
  },
  {
   "cell_type": "markdown",
   "id": "47b5e870",
   "metadata": {},
   "source": [
    "### *users Schema*"
   ]
  },
  {
   "cell_type": "code",
   "execution_count": 6,
   "id": "4f16df00",
   "metadata": {},
   "outputs": [
    {
     "data": {
      "text/html": [
       "<div>\n",
       "<style scoped>\n",
       "    .dataframe tbody tr th:only-of-type {\n",
       "        vertical-align: middle;\n",
       "    }\n",
       "\n",
       "    .dataframe tbody tr th {\n",
       "        vertical-align: top;\n",
       "    }\n",
       "\n",
       "    .dataframe thead th {\n",
       "        text-align: right;\n",
       "    }\n",
       "</style>\n",
       "<table border=\"1\" class=\"dataframe\">\n",
       "  <thead>\n",
       "    <tr style=\"text-align: right;\">\n",
       "      <th></th>\n",
       "      <th>User ID</th>\n",
       "      <th>Name</th>\n",
       "      <th>Email Address</th>\n",
       "      <th>Username</th>\n",
       "      <th>Date of Birth</th>\n",
       "      <th>Gender</th>\n",
       "      <th>Location</th>\n",
       "      <th>Membership Start Date</th>\n",
       "      <th>Membership End Date</th>\n",
       "      <th>Subscription Plan</th>\n",
       "      <th>Payment Information</th>\n",
       "      <th>Renewal Status</th>\n",
       "      <th>Usage Frequency</th>\n",
       "      <th>Purchase History</th>\n",
       "      <th>Favorite Genres</th>\n",
       "      <th>Devices Used</th>\n",
       "      <th>Engagement Metrics</th>\n",
       "      <th>Feedback/Ratings</th>\n",
       "      <th>Customer Support Interactions</th>\n",
       "    </tr>\n",
       "  </thead>\n",
       "  <tbody>\n",
       "    <tr>\n",
       "      <th>0</th>\n",
       "      <td>1</td>\n",
       "      <td>Ronald Murphy</td>\n",
       "      <td>williamholland@example.com</td>\n",
       "      <td>williamholland</td>\n",
       "      <td>1953-06-03</td>\n",
       "      <td>Male</td>\n",
       "      <td>Rebeccachester</td>\n",
       "      <td>2024-01-15</td>\n",
       "      <td>2025-01-14</td>\n",
       "      <td>Annual</td>\n",
       "      <td>Mastercard</td>\n",
       "      <td>Manual</td>\n",
       "      <td>Regular</td>\n",
       "      <td>Electronics</td>\n",
       "      <td>Documentary</td>\n",
       "      <td>Smart TV</td>\n",
       "      <td>Medium</td>\n",
       "      <td>3.6</td>\n",
       "      <td>3</td>\n",
       "    </tr>\n",
       "    <tr>\n",
       "      <th>1</th>\n",
       "      <td>2</td>\n",
       "      <td>Scott Allen</td>\n",
       "      <td>scott22@example.org</td>\n",
       "      <td>scott22</td>\n",
       "      <td>1978-07-08</td>\n",
       "      <td>Male</td>\n",
       "      <td>Mcphersonview</td>\n",
       "      <td>2024-01-07</td>\n",
       "      <td>2025-01-06</td>\n",
       "      <td>Monthly</td>\n",
       "      <td>Visa</td>\n",
       "      <td>Manual</td>\n",
       "      <td>Regular</td>\n",
       "      <td>Electronics</td>\n",
       "      <td>Horror</td>\n",
       "      <td>Smartphone</td>\n",
       "      <td>Medium</td>\n",
       "      <td>3.8</td>\n",
       "      <td>7</td>\n",
       "    </tr>\n",
       "    <tr>\n",
       "      <th>2</th>\n",
       "      <td>3</td>\n",
       "      <td>Jonathan Parrish</td>\n",
       "      <td>brooke16@example.org</td>\n",
       "      <td>brooke16</td>\n",
       "      <td>1994-12-06</td>\n",
       "      <td>Female</td>\n",
       "      <td>Youngfort</td>\n",
       "      <td>2024-04-13</td>\n",
       "      <td>2025-04-13</td>\n",
       "      <td>Monthly</td>\n",
       "      <td>Mastercard</td>\n",
       "      <td>Manual</td>\n",
       "      <td>Regular</td>\n",
       "      <td>Books</td>\n",
       "      <td>Comedy</td>\n",
       "      <td>Smart TV</td>\n",
       "      <td>Low</td>\n",
       "      <td>3.3</td>\n",
       "      <td>8</td>\n",
       "    </tr>\n",
       "    <tr>\n",
       "      <th>3</th>\n",
       "      <td>4</td>\n",
       "      <td>Megan Williams</td>\n",
       "      <td>elizabeth31@example.net</td>\n",
       "      <td>elizabeth31</td>\n",
       "      <td>1964-12-22</td>\n",
       "      <td>Female</td>\n",
       "      <td>Feliciashire</td>\n",
       "      <td>2024-01-24</td>\n",
       "      <td>2025-01-23</td>\n",
       "      <td>Monthly</td>\n",
       "      <td>Amex</td>\n",
       "      <td>Auto-renew</td>\n",
       "      <td>Regular</td>\n",
       "      <td>Electronics</td>\n",
       "      <td>Documentary</td>\n",
       "      <td>Smart TV</td>\n",
       "      <td>High</td>\n",
       "      <td>3.3</td>\n",
       "      <td>7</td>\n",
       "    </tr>\n",
       "    <tr>\n",
       "      <th>4</th>\n",
       "      <td>5</td>\n",
       "      <td>Kathryn Brown</td>\n",
       "      <td>pattersonalexandra@example.org</td>\n",
       "      <td>pattersonalexandra</td>\n",
       "      <td>1961-06-04</td>\n",
       "      <td>Male</td>\n",
       "      <td>Port Deborah</td>\n",
       "      <td>2024-02-14</td>\n",
       "      <td>2025-02-13</td>\n",
       "      <td>Annual</td>\n",
       "      <td>Visa</td>\n",
       "      <td>Auto-renew</td>\n",
       "      <td>Frequent</td>\n",
       "      <td>Clothing</td>\n",
       "      <td>Drama</td>\n",
       "      <td>Smart TV</td>\n",
       "      <td>Low</td>\n",
       "      <td>4.3</td>\n",
       "      <td>1</td>\n",
       "    </tr>\n",
       "  </tbody>\n",
       "</table>\n",
       "</div>"
      ],
      "text/plain": [
       "   User ID              Name                   Email Address  \\\n",
       "0        1     Ronald Murphy      williamholland@example.com   \n",
       "1        2       Scott Allen             scott22@example.org   \n",
       "2        3  Jonathan Parrish            brooke16@example.org   \n",
       "3        4    Megan Williams         elizabeth31@example.net   \n",
       "4        5     Kathryn Brown  pattersonalexandra@example.org   \n",
       "\n",
       "             Username Date of Birth  Gender        Location  \\\n",
       "0      williamholland    1953-06-03    Male  Rebeccachester   \n",
       "1             scott22    1978-07-08    Male   Mcphersonview   \n",
       "2            brooke16    1994-12-06  Female       Youngfort   \n",
       "3         elizabeth31    1964-12-22  Female    Feliciashire   \n",
       "4  pattersonalexandra    1961-06-04    Male    Port Deborah   \n",
       "\n",
       "  Membership Start Date Membership End Date Subscription Plan  \\\n",
       "0            2024-01-15          2025-01-14            Annual   \n",
       "1            2024-01-07          2025-01-06           Monthly   \n",
       "2            2024-04-13          2025-04-13           Monthly   \n",
       "3            2024-01-24          2025-01-23           Monthly   \n",
       "4            2024-02-14          2025-02-13            Annual   \n",
       "\n",
       "  Payment Information Renewal Status Usage Frequency Purchase History  \\\n",
       "0          Mastercard         Manual         Regular      Electronics   \n",
       "1                Visa         Manual         Regular      Electronics   \n",
       "2          Mastercard         Manual         Regular            Books   \n",
       "3                Amex     Auto-renew         Regular      Electronics   \n",
       "4                Visa     Auto-renew        Frequent         Clothing   \n",
       "\n",
       "  Favorite Genres Devices Used Engagement Metrics  Feedback/Ratings  \\\n",
       "0     Documentary     Smart TV             Medium               3.6   \n",
       "1          Horror   Smartphone             Medium               3.8   \n",
       "2          Comedy     Smart TV                Low               3.3   \n",
       "3     Documentary     Smart TV               High               3.3   \n",
       "4           Drama     Smart TV                Low               4.3   \n",
       "\n",
       "   Customer Support Interactions  \n",
       "0                              3  \n",
       "1                              7  \n",
       "2                              8  \n",
       "3                              7  \n",
       "4                              1  "
      ]
     },
     "execution_count": 6,
     "metadata": {},
     "output_type": "execute_result"
    }
   ],
   "source": [
    "users.head()"
   ]
  },
  {
   "cell_type": "code",
   "execution_count": 7,
   "id": "dee1c979",
   "metadata": {},
   "outputs": [
    {
     "data": {
      "text/plain": [
       "0"
      ]
     },
     "execution_count": 7,
     "metadata": {},
     "output_type": "execute_result"
    }
   ],
   "source": [
    "users.isna().sum().sum()"
   ]
  },
  {
   "cell_type": "code",
   "execution_count": 8,
   "id": "83f3dd61",
   "metadata": {
    "scrolled": true
   },
   "outputs": [
    {
     "data": {
      "text/plain": [
       "(2500, 19)"
      ]
     },
     "execution_count": 8,
     "metadata": {},
     "output_type": "execute_result"
    }
   ],
   "source": [
    "users.shape"
   ]
  },
  {
   "cell_type": "markdown",
   "id": "5f7d35fd",
   "metadata": {},
   "source": [
    "#### Change columns to PascalCase "
   ]
  },
  {
   "cell_type": "code",
   "execution_count": 9,
   "id": "df6f429d",
   "metadata": {},
   "outputs": [],
   "source": [
    "users.columns = users.columns.str.replace(' ', '')"
   ]
  },
  {
   "cell_type": "code",
   "execution_count": 10,
   "id": "1224a441",
   "metadata": {
    "scrolled": true
   },
   "outputs": [
    {
     "data": {
      "text/plain": [
       "Index(['UserID', 'Name', 'EmailAddress', 'Username', 'DateofBirth', 'Gender',\n",
       "       'Location', 'MembershipStartDate', 'MembershipEndDate',\n",
       "       'SubscriptionPlan', 'PaymentInformation', 'RenewalStatus',\n",
       "       'UsageFrequency', 'PurchaseHistory', 'FavoriteGenres', 'DevicesUsed',\n",
       "       'EngagementMetrics', 'Feedback/Ratings', 'CustomerSupportInteractions'],\n",
       "      dtype='object')"
      ]
     },
     "execution_count": 10,
     "metadata": {},
     "output_type": "execute_result"
    }
   ],
   "source": [
    "users.columns"
   ]
  },
  {
   "cell_type": "code",
   "execution_count": 11,
   "id": "a62b690c",
   "metadata": {},
   "outputs": [],
   "source": [
    "users[['FirstName', 'LastName']] = users['Name'].str.split(' ', n = 1, expand=True)"
   ]
  },
  {
   "cell_type": "code",
   "execution_count": 12,
   "id": "ee5217bb",
   "metadata": {},
   "outputs": [],
   "source": [
    "users2 = users[[\"FirstName\", \"LastName\", \"EmailAddress\"]].copy()"
   ]
  },
  {
   "cell_type": "code",
   "execution_count": 13,
   "id": "24925e0e",
   "metadata": {},
   "outputs": [],
   "source": [
    "users2 = users2.rename(columns={'EmailAddress': 'Email'})"
   ]
  },
  {
   "cell_type": "code",
   "execution_count": 14,
   "id": "a6e4d5dc",
   "metadata": {},
   "outputs": [
    {
     "data": {
      "text/html": [
       "<div>\n",
       "<style scoped>\n",
       "    .dataframe tbody tr th:only-of-type {\n",
       "        vertical-align: middle;\n",
       "    }\n",
       "\n",
       "    .dataframe tbody tr th {\n",
       "        vertical-align: top;\n",
       "    }\n",
       "\n",
       "    .dataframe thead th {\n",
       "        text-align: right;\n",
       "    }\n",
       "</style>\n",
       "<table border=\"1\" class=\"dataframe\">\n",
       "  <thead>\n",
       "    <tr style=\"text-align: right;\">\n",
       "      <th></th>\n",
       "      <th>FirstName</th>\n",
       "      <th>LastName</th>\n",
       "      <th>Email</th>\n",
       "    </tr>\n",
       "  </thead>\n",
       "  <tbody>\n",
       "    <tr>\n",
       "      <th>0</th>\n",
       "      <td>Ronald</td>\n",
       "      <td>Murphy</td>\n",
       "      <td>williamholland@example.com</td>\n",
       "    </tr>\n",
       "    <tr>\n",
       "      <th>1</th>\n",
       "      <td>Scott</td>\n",
       "      <td>Allen</td>\n",
       "      <td>scott22@example.org</td>\n",
       "    </tr>\n",
       "    <tr>\n",
       "      <th>2</th>\n",
       "      <td>Jonathan</td>\n",
       "      <td>Parrish</td>\n",
       "      <td>brooke16@example.org</td>\n",
       "    </tr>\n",
       "    <tr>\n",
       "      <th>3</th>\n",
       "      <td>Megan</td>\n",
       "      <td>Williams</td>\n",
       "      <td>elizabeth31@example.net</td>\n",
       "    </tr>\n",
       "    <tr>\n",
       "      <th>4</th>\n",
       "      <td>Kathryn</td>\n",
       "      <td>Brown</td>\n",
       "      <td>pattersonalexandra@example.org</td>\n",
       "    </tr>\n",
       "  </tbody>\n",
       "</table>\n",
       "</div>"
      ],
      "text/plain": [
       "  FirstName  LastName                           Email\n",
       "0    Ronald    Murphy      williamholland@example.com\n",
       "1     Scott     Allen             scott22@example.org\n",
       "2  Jonathan   Parrish            brooke16@example.org\n",
       "3     Megan  Williams         elizabeth31@example.net\n",
       "4   Kathryn     Brown  pattersonalexandra@example.org"
      ]
     },
     "execution_count": 14,
     "metadata": {},
     "output_type": "execute_result"
    }
   ],
   "source": [
    "users2.head()"
   ]
  },
  {
   "cell_type": "code",
   "execution_count": 15,
   "id": "e0dd4200",
   "metadata": {},
   "outputs": [
    {
     "data": {
      "text/plain": [
       "0"
      ]
     },
     "execution_count": 15,
     "metadata": {},
     "output_type": "execute_result"
    }
   ],
   "source": [
    "users2.isna().sum().sum()"
   ]
  },
  {
   "cell_type": "code",
   "execution_count": 16,
   "id": "b49f1e4e",
   "metadata": {},
   "outputs": [],
   "source": [
    "def generate_unique_phone_numbers(count):\n",
    "    phone_numbers = set()\n",
    "    while len(phone_numbers) < count:\n",
    "        start_digit = np.random.choice([8, 9])\n",
    "        \n",
    "        remaining_digits = np.random.randint(0, 10, 7)\n",
    "        phone_number = str(start_digit) + ''.join(map(str, remaining_digits))\n",
    "        phone_numbers.add(phone_number)\n",
    "    return list(phone_numbers)\n",
    "\n",
    "num_records = len(users)\n",
    "unique_phone_numbers = generate_unique_phone_numbers(num_records)"
   ]
  },
  {
   "cell_type": "code",
   "execution_count": 17,
   "id": "0e83f356",
   "metadata": {},
   "outputs": [],
   "source": [
    "users2['Contact'] = unique_phone_numbers"
   ]
  },
  {
   "cell_type": "code",
   "execution_count": 18,
   "id": "aeb56ac8",
   "metadata": {
    "scrolled": false
   },
   "outputs": [
    {
     "data": {
      "text/html": [
       "<div>\n",
       "<style scoped>\n",
       "    .dataframe tbody tr th:only-of-type {\n",
       "        vertical-align: middle;\n",
       "    }\n",
       "\n",
       "    .dataframe tbody tr th {\n",
       "        vertical-align: top;\n",
       "    }\n",
       "\n",
       "    .dataframe thead th {\n",
       "        text-align: right;\n",
       "    }\n",
       "</style>\n",
       "<table border=\"1\" class=\"dataframe\">\n",
       "  <thead>\n",
       "    <tr style=\"text-align: right;\">\n",
       "      <th></th>\n",
       "      <th>FirstName</th>\n",
       "      <th>LastName</th>\n",
       "      <th>Email</th>\n",
       "      <th>Contact</th>\n",
       "    </tr>\n",
       "  </thead>\n",
       "  <tbody>\n",
       "    <tr>\n",
       "      <th>0</th>\n",
       "      <td>Ronald</td>\n",
       "      <td>Murphy</td>\n",
       "      <td>williamholland@example.com</td>\n",
       "      <td>96358820</td>\n",
       "    </tr>\n",
       "    <tr>\n",
       "      <th>1</th>\n",
       "      <td>Scott</td>\n",
       "      <td>Allen</td>\n",
       "      <td>scott22@example.org</td>\n",
       "      <td>94481144</td>\n",
       "    </tr>\n",
       "    <tr>\n",
       "      <th>2</th>\n",
       "      <td>Jonathan</td>\n",
       "      <td>Parrish</td>\n",
       "      <td>brooke16@example.org</td>\n",
       "      <td>90340963</td>\n",
       "    </tr>\n",
       "    <tr>\n",
       "      <th>3</th>\n",
       "      <td>Megan</td>\n",
       "      <td>Williams</td>\n",
       "      <td>elizabeth31@example.net</td>\n",
       "      <td>89049086</td>\n",
       "    </tr>\n",
       "    <tr>\n",
       "      <th>4</th>\n",
       "      <td>Kathryn</td>\n",
       "      <td>Brown</td>\n",
       "      <td>pattersonalexandra@example.org</td>\n",
       "      <td>88751848</td>\n",
       "    </tr>\n",
       "  </tbody>\n",
       "</table>\n",
       "</div>"
      ],
      "text/plain": [
       "  FirstName  LastName                           Email   Contact\n",
       "0    Ronald    Murphy      williamholland@example.com  96358820\n",
       "1     Scott     Allen             scott22@example.org  94481144\n",
       "2  Jonathan   Parrish            brooke16@example.org  90340963\n",
       "3     Megan  Williams         elizabeth31@example.net  89049086\n",
       "4   Kathryn     Brown  pattersonalexandra@example.org  88751848"
      ]
     },
     "execution_count": 18,
     "metadata": {},
     "output_type": "execute_result"
    }
   ],
   "source": [
    "users2.head()"
   ]
  },
  {
   "cell_type": "code",
   "execution_count": 19,
   "id": "e93af674",
   "metadata": {},
   "outputs": [
    {
     "data": {
      "text/plain": [
       "2500"
      ]
     },
     "execution_count": 19,
     "metadata": {},
     "output_type": "execute_result"
    }
   ],
   "source": [
    "users2['Contact'].nunique()"
   ]
  },
  {
   "cell_type": "code",
   "execution_count": 20,
   "id": "4d46c31b",
   "metadata": {},
   "outputs": [],
   "source": [
    "def generate_password(length=10):\n",
    "    characters = string.ascii_letters + string.digits\n",
    "    return ''.join(random.choice(characters) for i in range(length))\n",
    "\n"
   ]
  },
  {
   "cell_type": "code",
   "execution_count": 21,
   "id": "3d722919",
   "metadata": {},
   "outputs": [],
   "source": [
    "users2['Password'] = users.apply(lambda x: generate_password(), axis=1)"
   ]
  },
  {
   "cell_type": "code",
   "execution_count": 22,
   "id": "7853f1b1",
   "metadata": {},
   "outputs": [
    {
     "data": {
      "text/html": [
       "<div>\n",
       "<style scoped>\n",
       "    .dataframe tbody tr th:only-of-type {\n",
       "        vertical-align: middle;\n",
       "    }\n",
       "\n",
       "    .dataframe tbody tr th {\n",
       "        vertical-align: top;\n",
       "    }\n",
       "\n",
       "    .dataframe thead th {\n",
       "        text-align: right;\n",
       "    }\n",
       "</style>\n",
       "<table border=\"1\" class=\"dataframe\">\n",
       "  <thead>\n",
       "    <tr style=\"text-align: right;\">\n",
       "      <th></th>\n",
       "      <th>Email</th>\n",
       "      <th>Count</th>\n",
       "    </tr>\n",
       "  </thead>\n",
       "  <tbody>\n",
       "    <tr>\n",
       "      <th>319</th>\n",
       "      <td>bryandiaz@example.com</td>\n",
       "      <td>2</td>\n",
       "    </tr>\n",
       "    <tr>\n",
       "      <th>540</th>\n",
       "      <td>dbailey@example.net</td>\n",
       "      <td>2</td>\n",
       "    </tr>\n",
       "    <tr>\n",
       "      <th>577</th>\n",
       "      <td>djohnson@example.org</td>\n",
       "      <td>2</td>\n",
       "    </tr>\n",
       "    <tr>\n",
       "      <th>681</th>\n",
       "      <td>ewilson@example.com</td>\n",
       "      <td>2</td>\n",
       "    </tr>\n",
       "    <tr>\n",
       "      <th>956</th>\n",
       "      <td>jacqueline84@example.com</td>\n",
       "      <td>2</td>\n",
       "    </tr>\n",
       "  </tbody>\n",
       "</table>\n",
       "</div>"
      ],
      "text/plain": [
       "                        Email  Count\n",
       "319     bryandiaz@example.com      2\n",
       "540       dbailey@example.net      2\n",
       "577      djohnson@example.org      2\n",
       "681       ewilson@example.com      2\n",
       "956  jacqueline84@example.com      2"
      ]
     },
     "execution_count": 22,
     "metadata": {},
     "output_type": "execute_result"
    }
   ],
   "source": [
    "groupby = users2.groupby('Email').size().reset_index(name='Count')\n",
    "groupby[groupby['Count'] > 1].head()"
   ]
  },
  {
   "cell_type": "code",
   "execution_count": 23,
   "id": "e0308f89",
   "metadata": {},
   "outputs": [],
   "source": [
    "users2 = users2.drop_duplicates(subset=['Email'], keep='first')"
   ]
  },
  {
   "cell_type": "code",
   "execution_count": 24,
   "id": "d139a10c",
   "metadata": {},
   "outputs": [
    {
     "data": {
      "text/html": [
       "<div>\n",
       "<style scoped>\n",
       "    .dataframe tbody tr th:only-of-type {\n",
       "        vertical-align: middle;\n",
       "    }\n",
       "\n",
       "    .dataframe tbody tr th {\n",
       "        vertical-align: top;\n",
       "    }\n",
       "\n",
       "    .dataframe thead th {\n",
       "        text-align: right;\n",
       "    }\n",
       "</style>\n",
       "<table border=\"1\" class=\"dataframe\">\n",
       "  <thead>\n",
       "    <tr style=\"text-align: right;\">\n",
       "      <th></th>\n",
       "      <th>Email</th>\n",
       "      <th>Count</th>\n",
       "    </tr>\n",
       "  </thead>\n",
       "  <tbody>\n",
       "  </tbody>\n",
       "</table>\n",
       "</div>"
      ],
      "text/plain": [
       "Empty DataFrame\n",
       "Columns: [Email, Count]\n",
       "Index: []"
      ]
     },
     "execution_count": 24,
     "metadata": {},
     "output_type": "execute_result"
    }
   ],
   "source": [
    "groupby = users2.groupby('Email').size().reset_index(name='Count')\n",
    "groupby[groupby['Count'] > 1].head()"
   ]
  },
  {
   "cell_type": "code",
   "execution_count": 25,
   "id": "78ca617f",
   "metadata": {},
   "outputs": [],
   "source": [
    "users2['UserID'] = range(1, len(users2) + 1)"
   ]
  },
  {
   "cell_type": "code",
   "execution_count": 26,
   "id": "5a7b42d2",
   "metadata": {},
   "outputs": [],
   "source": [
    "users2 = users2[[\"UserID\", \"FirstName\", \"LastName\", \"Email\", \"Password\", \"Contact\"]]"
   ]
  },
  {
   "cell_type": "code",
   "execution_count": 27,
   "id": "c535b881",
   "metadata": {},
   "outputs": [
    {
     "data": {
      "text/html": [
       "<div>\n",
       "<style scoped>\n",
       "    .dataframe tbody tr th:only-of-type {\n",
       "        vertical-align: middle;\n",
       "    }\n",
       "\n",
       "    .dataframe tbody tr th {\n",
       "        vertical-align: top;\n",
       "    }\n",
       "\n",
       "    .dataframe thead th {\n",
       "        text-align: right;\n",
       "    }\n",
       "</style>\n",
       "<table border=\"1\" class=\"dataframe\">\n",
       "  <thead>\n",
       "    <tr style=\"text-align: right;\">\n",
       "      <th></th>\n",
       "      <th>UserID</th>\n",
       "      <th>FirstName</th>\n",
       "      <th>LastName</th>\n",
       "      <th>Email</th>\n",
       "      <th>Password</th>\n",
       "      <th>Contact</th>\n",
       "    </tr>\n",
       "  </thead>\n",
       "  <tbody>\n",
       "    <tr>\n",
       "      <th>0</th>\n",
       "      <td>1</td>\n",
       "      <td>Ronald</td>\n",
       "      <td>Murphy</td>\n",
       "      <td>williamholland@example.com</td>\n",
       "      <td>xJJFwREZpJ</td>\n",
       "      <td>96358820</td>\n",
       "    </tr>\n",
       "    <tr>\n",
       "      <th>1</th>\n",
       "      <td>2</td>\n",
       "      <td>Scott</td>\n",
       "      <td>Allen</td>\n",
       "      <td>scott22@example.org</td>\n",
       "      <td>vdSj8pYGtj</td>\n",
       "      <td>94481144</td>\n",
       "    </tr>\n",
       "    <tr>\n",
       "      <th>2</th>\n",
       "      <td>3</td>\n",
       "      <td>Jonathan</td>\n",
       "      <td>Parrish</td>\n",
       "      <td>brooke16@example.org</td>\n",
       "      <td>zX0cm9xmcX</td>\n",
       "      <td>90340963</td>\n",
       "    </tr>\n",
       "    <tr>\n",
       "      <th>3</th>\n",
       "      <td>4</td>\n",
       "      <td>Megan</td>\n",
       "      <td>Williams</td>\n",
       "      <td>elizabeth31@example.net</td>\n",
       "      <td>VcKDj0b4Op</td>\n",
       "      <td>89049086</td>\n",
       "    </tr>\n",
       "    <tr>\n",
       "      <th>4</th>\n",
       "      <td>5</td>\n",
       "      <td>Kathryn</td>\n",
       "      <td>Brown</td>\n",
       "      <td>pattersonalexandra@example.org</td>\n",
       "      <td>RUCAQXHRHZ</td>\n",
       "      <td>88751848</td>\n",
       "    </tr>\n",
       "  </tbody>\n",
       "</table>\n",
       "</div>"
      ],
      "text/plain": [
       "   UserID FirstName  LastName                           Email    Password  \\\n",
       "0       1    Ronald    Murphy      williamholland@example.com  xJJFwREZpJ   \n",
       "1       2     Scott     Allen             scott22@example.org  vdSj8pYGtj   \n",
       "2       3  Jonathan   Parrish            brooke16@example.org  zX0cm9xmcX   \n",
       "3       4     Megan  Williams         elizabeth31@example.net  VcKDj0b4Op   \n",
       "4       5   Kathryn     Brown  pattersonalexandra@example.org  RUCAQXHRHZ   \n",
       "\n",
       "    Contact  \n",
       "0  96358820  \n",
       "1  94481144  \n",
       "2  90340963  \n",
       "3  89049086  \n",
       "4  88751848  "
      ]
     },
     "execution_count": 27,
     "metadata": {},
     "output_type": "execute_result"
    }
   ],
   "source": [
    "users2.head()"
   ]
  },
  {
   "cell_type": "code",
   "execution_count": 28,
   "id": "8382a39f",
   "metadata": {},
   "outputs": [
    {
     "data": {
      "text/plain": [
       "0"
      ]
     },
     "execution_count": 28,
     "metadata": {},
     "output_type": "execute_result"
    }
   ],
   "source": [
    "users2.isna().sum().sum()"
   ]
  },
  {
   "cell_type": "code",
   "execution_count": 29,
   "id": "5394aacd",
   "metadata": {},
   "outputs": [
    {
     "data": {
      "text/plain": [
       "(2480, 6)"
      ]
     },
     "execution_count": 29,
     "metadata": {},
     "output_type": "execute_result"
    }
   ],
   "source": [
    "users2.shape"
   ]
  },
  {
   "cell_type": "markdown",
   "id": "f75e599b",
   "metadata": {},
   "source": [
    "### Unit test"
   ]
  },
  {
   "cell_type": "code",
   "execution_count": 30,
   "id": "ff79a1e0",
   "metadata": {},
   "outputs": [
    {
     "name": "stdout",
     "output_type": "stream",
     "text": [
      "all emails valid\n"
     ]
    }
   ],
   "source": [
    "def is_valid_email(email: str) -> bool:\n",
    "    email_pattern = r'^[a-zA-Z0-9_.+-]+@[a-zA-Z0-9-]+\\.[a-zA-Z0-9-.]+$'\n",
    "    return bool(re.match(email_pattern, email))\n",
    "\n",
    "def test_email_format(df):\n",
    "    invalid_emails = df[~users2['Email'].apply(is_valid_email)]\n",
    "    assert invalid_emails.empty, f\"Invalid emails found: {invalid_emails['Email'].tolist()}\"\n",
    "    print(\"all emails valid\")\n",
    "test_email_format(users2)"
   ]
  },
  {
   "cell_type": "code",
   "execution_count": 31,
   "id": "31b110a1",
   "metadata": {},
   "outputs": [
    {
     "name": "stdout",
     "output_type": "stream",
     "text": [
      "No duplicate emails found.\n"
     ]
    }
   ],
   "source": [
    "def test_duplicate_emails(df):\n",
    "    duplicate_emails = df[df.duplicated(subset=['Email'], keep=False)]\n",
    "    assert duplicate_emails.empty, f\"Duplicate emails found: {duplicate_emails['Email'].tolist()}\"\n",
    "    print(\"No duplicate emails found.\")\n",
    "\n",
    "test_duplicate_emails(users2)\n"
   ]
  },
  {
   "cell_type": "markdown",
   "id": "9a874c0d",
   "metadata": {},
   "source": [
    "### *items Schema*"
   ]
  },
  {
   "cell_type": "code",
   "execution_count": 32,
   "id": "00b52465",
   "metadata": {
    "scrolled": true
   },
   "outputs": [
    {
     "data": {
      "text/html": [
       "<div>\n",
       "<style scoped>\n",
       "    .dataframe tbody tr th:only-of-type {\n",
       "        vertical-align: middle;\n",
       "    }\n",
       "\n",
       "    .dataframe tbody tr th {\n",
       "        vertical-align: top;\n",
       "    }\n",
       "\n",
       "    .dataframe thead th {\n",
       "        text-align: right;\n",
       "    }\n",
       "</style>\n",
       "<table border=\"1\" class=\"dataframe\">\n",
       "  <thead>\n",
       "    <tr style=\"text-align: right;\">\n",
       "      <th></th>\n",
       "      <th>Sub Category</th>\n",
       "      <th>Price</th>\n",
       "      <th>Discount</th>\n",
       "      <th>Rating</th>\n",
       "      <th>Title</th>\n",
       "      <th>Currency</th>\n",
       "      <th>Feature</th>\n",
       "    </tr>\n",
       "  </thead>\n",
       "  <tbody>\n",
       "    <tr>\n",
       "      <th>0</th>\n",
       "      <td>Batteries</td>\n",
       "      <td>$20.99</td>\n",
       "      <td>No Discount</td>\n",
       "      <td>NaN</td>\n",
       "      <td>Duracell Coppertop Alkaline AA Batteries, 40-c...</td>\n",
       "      <td>$</td>\n",
       "      <td>POWER BOOST™ Ingredients   Guaranteed For 12 Y...</td>\n",
       "    </tr>\n",
       "    <tr>\n",
       "      <th>1</th>\n",
       "      <td>Batteries</td>\n",
       "      <td>$20.99</td>\n",
       "      <td>No Discount</td>\n",
       "      <td>NaN</td>\n",
       "      <td>Duracell Coppertop Alkaline AAA Batteries, 40-...</td>\n",
       "      <td>$</td>\n",
       "      <td>POWER BOOST™ Ingredients   Guaranteed For 12 Y...</td>\n",
       "    </tr>\n",
       "    <tr>\n",
       "      <th>2</th>\n",
       "      <td>Batteries</td>\n",
       "      <td>$20.99</td>\n",
       "      <td>No Discount</td>\n",
       "      <td>NaN</td>\n",
       "      <td>Duracell 9V Alkaline Batteries, 8-count</td>\n",
       "      <td>$</td>\n",
       "      <td>Long-Lasting Batteries Designed for Dependabil...</td>\n",
       "    </tr>\n",
       "    <tr>\n",
       "      <th>3</th>\n",
       "      <td>Batteries</td>\n",
       "      <td>$18.99</td>\n",
       "      <td>No Discount</td>\n",
       "      <td>NaN</td>\n",
       "      <td>Duracell C Alkaline Batteries, 14-count</td>\n",
       "      <td>$</td>\n",
       "      <td>Long-Lasting Batteries Designed for Dependabil...</td>\n",
       "    </tr>\n",
       "    <tr>\n",
       "      <th>4</th>\n",
       "      <td>Batteries</td>\n",
       "      <td>$14.99</td>\n",
       "      <td>No Discount</td>\n",
       "      <td>Rated 4.8 out of 5 stars based on 125 reviews.</td>\n",
       "      <td>Duracell 2032 Lithium Coin Batteries, 12-count</td>\n",
       "      <td>$</td>\n",
       "      <td>Our Longest Lasting Lithium Coin Battery Ever ...</td>\n",
       "    </tr>\n",
       "  </tbody>\n",
       "</table>\n",
       "</div>"
      ],
      "text/plain": [
       "  Sub Category    Price     Discount  \\\n",
       "0    Batteries  $20.99   No Discount   \n",
       "1    Batteries  $20.99   No Discount   \n",
       "2    Batteries  $20.99   No Discount   \n",
       "3    Batteries  $18.99   No Discount   \n",
       "4    Batteries  $14.99   No Discount   \n",
       "\n",
       "                                           Rating  \\\n",
       "0                                             NaN   \n",
       "1                                             NaN   \n",
       "2                                             NaN   \n",
       "3                                             NaN   \n",
       "4  Rated 4.8 out of 5 stars based on 125 reviews.   \n",
       "\n",
       "                                               Title Currency  \\\n",
       "0  Duracell Coppertop Alkaline AA Batteries, 40-c...        $   \n",
       "1  Duracell Coppertop Alkaline AAA Batteries, 40-...        $   \n",
       "2            Duracell 9V Alkaline Batteries, 8-count        $   \n",
       "3            Duracell C Alkaline Batteries, 14-count        $   \n",
       "4     Duracell 2032 Lithium Coin Batteries, 12-count        $   \n",
       "\n",
       "                                             Feature  \n",
       "0  POWER BOOST™ Ingredients   Guaranteed For 12 Y...  \n",
       "1  POWER BOOST™ Ingredients   Guaranteed For 12 Y...  \n",
       "2  Long-Lasting Batteries Designed for Dependabil...  \n",
       "3  Long-Lasting Batteries Designed for Dependabil...  \n",
       "4  Our Longest Lasting Lithium Coin Battery Ever ...  "
      ]
     },
     "execution_count": 32,
     "metadata": {},
     "output_type": "execute_result"
    }
   ],
   "source": [
    "items.head()"
   ]
  },
  {
   "cell_type": "code",
   "execution_count": 33,
   "id": "e500a389",
   "metadata": {},
   "outputs": [
    {
     "data": {
      "text/plain": [
       "14"
      ]
     },
     "execution_count": 33,
     "metadata": {},
     "output_type": "execute_result"
    }
   ],
   "source": [
    "items.isna().sum().sum()"
   ]
  },
  {
   "cell_type": "code",
   "execution_count": 34,
   "id": "faaa4656",
   "metadata": {},
   "outputs": [],
   "source": [
    "items = items.dropna().reset_index(drop=True)"
   ]
  },
  {
   "cell_type": "code",
   "execution_count": 35,
   "id": "32355fb0",
   "metadata": {},
   "outputs": [
    {
     "data": {
      "text/plain": [
       "0"
      ]
     },
     "execution_count": 35,
     "metadata": {},
     "output_type": "execute_result"
    }
   ],
   "source": [
    "items.isna().sum().sum()"
   ]
  },
  {
   "cell_type": "code",
   "execution_count": 36,
   "id": "9a966884",
   "metadata": {
    "scrolled": true
   },
   "outputs": [
    {
     "data": {
      "text/html": [
       "<div>\n",
       "<style scoped>\n",
       "    .dataframe tbody tr th:only-of-type {\n",
       "        vertical-align: middle;\n",
       "    }\n",
       "\n",
       "    .dataframe tbody tr th {\n",
       "        vertical-align: top;\n",
       "    }\n",
       "\n",
       "    .dataframe thead th {\n",
       "        text-align: right;\n",
       "    }\n",
       "</style>\n",
       "<table border=\"1\" class=\"dataframe\">\n",
       "  <thead>\n",
       "    <tr style=\"text-align: right;\">\n",
       "      <th></th>\n",
       "      <th>Sub Category</th>\n",
       "      <th>Price</th>\n",
       "      <th>Discount</th>\n",
       "      <th>Rating</th>\n",
       "      <th>Title</th>\n",
       "      <th>Currency</th>\n",
       "      <th>Feature</th>\n",
       "    </tr>\n",
       "  </thead>\n",
       "  <tbody>\n",
       "    <tr>\n",
       "      <th>0</th>\n",
       "      <td>Batteries</td>\n",
       "      <td>$14.99</td>\n",
       "      <td>No Discount</td>\n",
       "      <td>Rated 4.8 out of 5 stars based on 125 reviews.</td>\n",
       "      <td>Duracell 2032 Lithium Coin Batteries, 12-count</td>\n",
       "      <td>$</td>\n",
       "      <td>Our Longest Lasting Lithium Coin Battery Ever ...</td>\n",
       "    </tr>\n",
       "    <tr>\n",
       "      <th>1</th>\n",
       "      <td>Cameras &amp; Camcorders</td>\n",
       "      <td>$289.99</td>\n",
       "      <td>Price valid through 1/21/24</td>\n",
       "      <td>Rated 4.2 out of 5 stars based on 238 reviews.</td>\n",
       "      <td>GoPro HERO11 Black Action Camera Bundle</td>\n",
       "      <td>$</td>\n",
       "      <td>Also Includes: Shorty Hand Grip, Spare Enduro ...</td>\n",
       "    </tr>\n",
       "    <tr>\n",
       "      <th>2</th>\n",
       "      <td>Cameras &amp; Camcorders</td>\n",
       "      <td>$399.99</td>\n",
       "      <td>Price valid through 3/31/24</td>\n",
       "      <td>Rated 4.4 out of 5 stars based on 99 reviews.</td>\n",
       "      <td>Insta360 X3 - 5.7K 360° Action Camera Adventur...</td>\n",
       "      <td>$</td>\n",
       "      <td>X3 Captures 5.7K 360 Active HDR Video   Dual 1...</td>\n",
       "    </tr>\n",
       "    <tr>\n",
       "      <th>3</th>\n",
       "      <td>Cameras &amp; Camcorders</td>\n",
       "      <td>$429.99</td>\n",
       "      <td>No Discount</td>\n",
       "      <td>Rated 4.4 out of 5 stars based on 115 reviews.</td>\n",
       "      <td>DJI Mini 3 Drone Aerial Camera Bundle</td>\n",
       "      <td>$</td>\n",
       "      <td>Less Than 249g (0.55lbs) Ultralight and Foldab...</td>\n",
       "    </tr>\n",
       "    <tr>\n",
       "      <th>4</th>\n",
       "      <td>Cameras &amp; Camcorders</td>\n",
       "      <td>$239.97</td>\n",
       "      <td>No Discount</td>\n",
       "      <td>Rated 4.1 out of 5 stars based on 311 reviews.</td>\n",
       "      <td>GoPro HERO10 Black Action Camera Bundle</td>\n",
       "      <td>$</td>\n",
       "      <td>Also Includes: Extra Battery/Charger, Compact ...</td>\n",
       "    </tr>\n",
       "  </tbody>\n",
       "</table>\n",
       "</div>"
      ],
      "text/plain": [
       "           Sub Category     Price                     Discount  \\\n",
       "0             Batteries   $14.99                   No Discount   \n",
       "1  Cameras & Camcorders  $289.99   Price valid through 1/21/24   \n",
       "2  Cameras & Camcorders  $399.99   Price valid through 3/31/24   \n",
       "3  Cameras & Camcorders  $429.99                   No Discount   \n",
       "4  Cameras & Camcorders  $239.97                   No Discount   \n",
       "\n",
       "                                           Rating  \\\n",
       "0  Rated 4.8 out of 5 stars based on 125 reviews.   \n",
       "1  Rated 4.2 out of 5 stars based on 238 reviews.   \n",
       "2   Rated 4.4 out of 5 stars based on 99 reviews.   \n",
       "3  Rated 4.4 out of 5 stars based on 115 reviews.   \n",
       "4  Rated 4.1 out of 5 stars based on 311 reviews.   \n",
       "\n",
       "                                               Title Currency  \\\n",
       "0     Duracell 2032 Lithium Coin Batteries, 12-count        $   \n",
       "1            GoPro HERO11 Black Action Camera Bundle        $   \n",
       "2  Insta360 X3 - 5.7K 360° Action Camera Adventur...        $   \n",
       "3              DJI Mini 3 Drone Aerial Camera Bundle        $   \n",
       "4            GoPro HERO10 Black Action Camera Bundle        $   \n",
       "\n",
       "                                             Feature  \n",
       "0  Our Longest Lasting Lithium Coin Battery Ever ...  \n",
       "1  Also Includes: Shorty Hand Grip, Spare Enduro ...  \n",
       "2  X3 Captures 5.7K 360 Active HDR Video   Dual 1...  \n",
       "3  Less Than 249g (0.55lbs) Ultralight and Foldab...  \n",
       "4  Also Includes: Extra Battery/Charger, Compact ...  "
      ]
     },
     "execution_count": 36,
     "metadata": {},
     "output_type": "execute_result"
    }
   ],
   "source": [
    "items.head()"
   ]
  },
  {
   "cell_type": "code",
   "execution_count": 37,
   "id": "f29abd12",
   "metadata": {},
   "outputs": [],
   "source": [
    "items2 = items[['Title', 'Feature', 'Price']].copy()"
   ]
  },
  {
   "cell_type": "code",
   "execution_count": 38,
   "id": "f1e02e96",
   "metadata": {},
   "outputs": [],
   "source": [
    "items2.rename(columns={'Title': 'ItemName', 'Feature': 'Description'}, inplace=True)"
   ]
  },
  {
   "cell_type": "code",
   "execution_count": 39,
   "id": "d152a338",
   "metadata": {},
   "outputs": [
    {
     "data": {
      "text/html": [
       "<div>\n",
       "<style scoped>\n",
       "    .dataframe tbody tr th:only-of-type {\n",
       "        vertical-align: middle;\n",
       "    }\n",
       "\n",
       "    .dataframe tbody tr th {\n",
       "        vertical-align: top;\n",
       "    }\n",
       "\n",
       "    .dataframe thead th {\n",
       "        text-align: right;\n",
       "    }\n",
       "</style>\n",
       "<table border=\"1\" class=\"dataframe\">\n",
       "  <thead>\n",
       "    <tr style=\"text-align: right;\">\n",
       "      <th></th>\n",
       "      <th>ItemName</th>\n",
       "      <th>Description</th>\n",
       "      <th>Price</th>\n",
       "    </tr>\n",
       "  </thead>\n",
       "  <tbody>\n",
       "    <tr>\n",
       "      <th>0</th>\n",
       "      <td>Duracell 2032 Lithium Coin Batteries, 12-count</td>\n",
       "      <td>Our Longest Lasting Lithium Coin Battery Ever ...</td>\n",
       "      <td>$14.99</td>\n",
       "    </tr>\n",
       "    <tr>\n",
       "      <th>1</th>\n",
       "      <td>GoPro HERO11 Black Action Camera Bundle</td>\n",
       "      <td>Also Includes: Shorty Hand Grip, Spare Enduro ...</td>\n",
       "      <td>$289.99</td>\n",
       "    </tr>\n",
       "    <tr>\n",
       "      <th>2</th>\n",
       "      <td>Insta360 X3 - 5.7K 360° Action Camera Adventur...</td>\n",
       "      <td>X3 Captures 5.7K 360 Active HDR Video   Dual 1...</td>\n",
       "      <td>$399.99</td>\n",
       "    </tr>\n",
       "    <tr>\n",
       "      <th>3</th>\n",
       "      <td>DJI Mini 3 Drone Aerial Camera Bundle</td>\n",
       "      <td>Less Than 249g (0.55lbs) Ultralight and Foldab...</td>\n",
       "      <td>$429.99</td>\n",
       "    </tr>\n",
       "    <tr>\n",
       "      <th>4</th>\n",
       "      <td>GoPro HERO10 Black Action Camera Bundle</td>\n",
       "      <td>Also Includes: Extra Battery/Charger, Compact ...</td>\n",
       "      <td>$239.97</td>\n",
       "    </tr>\n",
       "  </tbody>\n",
       "</table>\n",
       "</div>"
      ],
      "text/plain": [
       "                                            ItemName  \\\n",
       "0     Duracell 2032 Lithium Coin Batteries, 12-count   \n",
       "1            GoPro HERO11 Black Action Camera Bundle   \n",
       "2  Insta360 X3 - 5.7K 360° Action Camera Adventur...   \n",
       "3              DJI Mini 3 Drone Aerial Camera Bundle   \n",
       "4            GoPro HERO10 Black Action Camera Bundle   \n",
       "\n",
       "                                         Description     Price  \n",
       "0  Our Longest Lasting Lithium Coin Battery Ever ...   $14.99   \n",
       "1  Also Includes: Shorty Hand Grip, Spare Enduro ...  $289.99   \n",
       "2  X3 Captures 5.7K 360 Active HDR Video   Dual 1...  $399.99   \n",
       "3  Less Than 249g (0.55lbs) Ultralight and Foldab...  $429.99   \n",
       "4  Also Includes: Extra Battery/Charger, Compact ...  $239.97   "
      ]
     },
     "execution_count": 39,
     "metadata": {},
     "output_type": "execute_result"
    }
   ],
   "source": [
    "items2.head()"
   ]
  },
  {
   "cell_type": "code",
   "execution_count": 40,
   "id": "0d74d722",
   "metadata": {},
   "outputs": [
    {
     "name": "stderr",
     "output_type": "stream",
     "text": [
      "C:\\Users\\quay\\AppData\\Local\\Temp\\ipykernel_19168\\939474044.py:1: FutureWarning: The default value of regex will change from True to False in a future version. In addition, single character regular expressions will *not* be treated as literal strings when regex=True.\n",
      "  items2['Price'] = items2['Price'].str.replace('$', '')\n"
     ]
    }
   ],
   "source": [
    "items2['Price'] = items2['Price'].str.replace('$', '')\n",
    "items2['Price'] = items2['Price'].str.replace(',', '')"
   ]
  },
  {
   "cell_type": "code",
   "execution_count": 41,
   "id": "56ed60a8",
   "metadata": {},
   "outputs": [],
   "source": [
    "items2['Price'] = pd.to_numeric(items2['Price'], errors='coerce')\n",
    "items2 = items2.dropna(subset=['Price'])\n",
    "items2['Price'] = items2['Price'].round(2)"
   ]
  },
  {
   "cell_type": "code",
   "execution_count": 42,
   "id": "1f2c3553",
   "metadata": {
    "scrolled": true
   },
   "outputs": [
    {
     "data": {
      "text/plain": [
       "0"
      ]
     },
     "execution_count": 42,
     "metadata": {},
     "output_type": "execute_result"
    }
   ],
   "source": [
    "items2.isna().sum().sum()"
   ]
  },
  {
   "cell_type": "code",
   "execution_count": 43,
   "id": "3c9b8756",
   "metadata": {},
   "outputs": [
    {
     "data": {
      "text/plain": [
       "(621, 3)"
      ]
     },
     "execution_count": 43,
     "metadata": {},
     "output_type": "execute_result"
    }
   ],
   "source": [
    "items2.shape"
   ]
  },
  {
   "cell_type": "code",
   "execution_count": 44,
   "id": "da1e3168",
   "metadata": {},
   "outputs": [],
   "source": [
    "items2['ItemID'] = range(1, len(items2) + 1)"
   ]
  },
  {
   "cell_type": "code",
   "execution_count": 45,
   "id": "342e59a8",
   "metadata": {},
   "outputs": [
    {
     "data": {
      "text/html": [
       "<div>\n",
       "<style scoped>\n",
       "    .dataframe tbody tr th:only-of-type {\n",
       "        vertical-align: middle;\n",
       "    }\n",
       "\n",
       "    .dataframe tbody tr th {\n",
       "        vertical-align: top;\n",
       "    }\n",
       "\n",
       "    .dataframe thead th {\n",
       "        text-align: right;\n",
       "    }\n",
       "</style>\n",
       "<table border=\"1\" class=\"dataframe\">\n",
       "  <thead>\n",
       "    <tr style=\"text-align: right;\">\n",
       "      <th></th>\n",
       "      <th>ItemName</th>\n",
       "      <th>Description</th>\n",
       "      <th>Price</th>\n",
       "      <th>ItemID</th>\n",
       "    </tr>\n",
       "  </thead>\n",
       "  <tbody>\n",
       "    <tr>\n",
       "      <th>0</th>\n",
       "      <td>Duracell 2032 Lithium Coin Batteries, 12-count</td>\n",
       "      <td>Our Longest Lasting Lithium Coin Battery Ever ...</td>\n",
       "      <td>14.99</td>\n",
       "      <td>1</td>\n",
       "    </tr>\n",
       "    <tr>\n",
       "      <th>1</th>\n",
       "      <td>GoPro HERO11 Black Action Camera Bundle</td>\n",
       "      <td>Also Includes: Shorty Hand Grip, Spare Enduro ...</td>\n",
       "      <td>289.99</td>\n",
       "      <td>2</td>\n",
       "    </tr>\n",
       "    <tr>\n",
       "      <th>2</th>\n",
       "      <td>Insta360 X3 - 5.7K 360° Action Camera Adventur...</td>\n",
       "      <td>X3 Captures 5.7K 360 Active HDR Video   Dual 1...</td>\n",
       "      <td>399.99</td>\n",
       "      <td>3</td>\n",
       "    </tr>\n",
       "    <tr>\n",
       "      <th>3</th>\n",
       "      <td>DJI Mini 3 Drone Aerial Camera Bundle</td>\n",
       "      <td>Less Than 249g (0.55lbs) Ultralight and Foldab...</td>\n",
       "      <td>429.99</td>\n",
       "      <td>4</td>\n",
       "    </tr>\n",
       "    <tr>\n",
       "      <th>4</th>\n",
       "      <td>GoPro HERO10 Black Action Camera Bundle</td>\n",
       "      <td>Also Includes: Extra Battery/Charger, Compact ...</td>\n",
       "      <td>239.97</td>\n",
       "      <td>5</td>\n",
       "    </tr>\n",
       "  </tbody>\n",
       "</table>\n",
       "</div>"
      ],
      "text/plain": [
       "                                            ItemName  \\\n",
       "0     Duracell 2032 Lithium Coin Batteries, 12-count   \n",
       "1            GoPro HERO11 Black Action Camera Bundle   \n",
       "2  Insta360 X3 - 5.7K 360° Action Camera Adventur...   \n",
       "3              DJI Mini 3 Drone Aerial Camera Bundle   \n",
       "4            GoPro HERO10 Black Action Camera Bundle   \n",
       "\n",
       "                                         Description   Price  ItemID  \n",
       "0  Our Longest Lasting Lithium Coin Battery Ever ...   14.99       1  \n",
       "1  Also Includes: Shorty Hand Grip, Spare Enduro ...  289.99       2  \n",
       "2  X3 Captures 5.7K 360 Active HDR Video   Dual 1...  399.99       3  \n",
       "3  Less Than 249g (0.55lbs) Ultralight and Foldab...  429.99       4  \n",
       "4  Also Includes: Extra Battery/Charger, Compact ...  239.97       5  "
      ]
     },
     "execution_count": 45,
     "metadata": {},
     "output_type": "execute_result"
    }
   ],
   "source": [
    "items2.head()"
   ]
  },
  {
   "cell_type": "code",
   "execution_count": 46,
   "id": "ee8095bb",
   "metadata": {},
   "outputs": [],
   "source": [
    "items2['UserID'] = np.random.randint(1, 2481, len(items2)) "
   ]
  },
  {
   "cell_type": "code",
   "execution_count": 47,
   "id": "3495a2d5",
   "metadata": {},
   "outputs": [
    {
     "data": {
      "text/html": [
       "<div>\n",
       "<style scoped>\n",
       "    .dataframe tbody tr th:only-of-type {\n",
       "        vertical-align: middle;\n",
       "    }\n",
       "\n",
       "    .dataframe tbody tr th {\n",
       "        vertical-align: top;\n",
       "    }\n",
       "\n",
       "    .dataframe thead th {\n",
       "        text-align: right;\n",
       "    }\n",
       "</style>\n",
       "<table border=\"1\" class=\"dataframe\">\n",
       "  <thead>\n",
       "    <tr style=\"text-align: right;\">\n",
       "      <th></th>\n",
       "      <th>ItemName</th>\n",
       "      <th>Description</th>\n",
       "      <th>Price</th>\n",
       "      <th>ItemID</th>\n",
       "      <th>UserID</th>\n",
       "    </tr>\n",
       "  </thead>\n",
       "  <tbody>\n",
       "    <tr>\n",
       "      <th>0</th>\n",
       "      <td>Duracell 2032 Lithium Coin Batteries, 12-count</td>\n",
       "      <td>Our Longest Lasting Lithium Coin Battery Ever ...</td>\n",
       "      <td>14.99</td>\n",
       "      <td>1</td>\n",
       "      <td>1548</td>\n",
       "    </tr>\n",
       "    <tr>\n",
       "      <th>1</th>\n",
       "      <td>GoPro HERO11 Black Action Camera Bundle</td>\n",
       "      <td>Also Includes: Shorty Hand Grip, Spare Enduro ...</td>\n",
       "      <td>289.99</td>\n",
       "      <td>2</td>\n",
       "      <td>1190</td>\n",
       "    </tr>\n",
       "    <tr>\n",
       "      <th>2</th>\n",
       "      <td>Insta360 X3 - 5.7K 360° Action Camera Adventur...</td>\n",
       "      <td>X3 Captures 5.7K 360 Active HDR Video   Dual 1...</td>\n",
       "      <td>399.99</td>\n",
       "      <td>3</td>\n",
       "      <td>1260</td>\n",
       "    </tr>\n",
       "    <tr>\n",
       "      <th>3</th>\n",
       "      <td>DJI Mini 3 Drone Aerial Camera Bundle</td>\n",
       "      <td>Less Than 249g (0.55lbs) Ultralight and Foldab...</td>\n",
       "      <td>429.99</td>\n",
       "      <td>4</td>\n",
       "      <td>232</td>\n",
       "    </tr>\n",
       "    <tr>\n",
       "      <th>4</th>\n",
       "      <td>GoPro HERO10 Black Action Camera Bundle</td>\n",
       "      <td>Also Includes: Extra Battery/Charger, Compact ...</td>\n",
       "      <td>239.97</td>\n",
       "      <td>5</td>\n",
       "      <td>1736</td>\n",
       "    </tr>\n",
       "  </tbody>\n",
       "</table>\n",
       "</div>"
      ],
      "text/plain": [
       "                                            ItemName  \\\n",
       "0     Duracell 2032 Lithium Coin Batteries, 12-count   \n",
       "1            GoPro HERO11 Black Action Camera Bundle   \n",
       "2  Insta360 X3 - 5.7K 360° Action Camera Adventur...   \n",
       "3              DJI Mini 3 Drone Aerial Camera Bundle   \n",
       "4            GoPro HERO10 Black Action Camera Bundle   \n",
       "\n",
       "                                         Description   Price  ItemID  UserID  \n",
       "0  Our Longest Lasting Lithium Coin Battery Ever ...   14.99       1    1548  \n",
       "1  Also Includes: Shorty Hand Grip, Spare Enduro ...  289.99       2    1190  \n",
       "2  X3 Captures 5.7K 360 Active HDR Video   Dual 1...  399.99       3    1260  \n",
       "3  Less Than 249g (0.55lbs) Ultralight and Foldab...  429.99       4     232  \n",
       "4  Also Includes: Extra Battery/Charger, Compact ...  239.97       5    1736  "
      ]
     },
     "execution_count": 47,
     "metadata": {},
     "output_type": "execute_result"
    }
   ],
   "source": [
    "items2.head()"
   ]
  },
  {
   "cell_type": "code",
   "execution_count": 48,
   "id": "e025b6fb",
   "metadata": {},
   "outputs": [],
   "source": [
    "items2 = items2[['ItemID', 'UserID', 'ItemName', 'Description', 'Price']]"
   ]
  },
  {
   "cell_type": "code",
   "execution_count": 49,
   "id": "dc77a9f0",
   "metadata": {},
   "outputs": [],
   "source": [
    "items2['Description'] = items2['Description'].str[:200]"
   ]
  },
  {
   "cell_type": "code",
   "execution_count": 50,
   "id": "2bb833ad",
   "metadata": {},
   "outputs": [
    {
     "data": {
      "text/html": [
       "<div>\n",
       "<style scoped>\n",
       "    .dataframe tbody tr th:only-of-type {\n",
       "        vertical-align: middle;\n",
       "    }\n",
       "\n",
       "    .dataframe tbody tr th {\n",
       "        vertical-align: top;\n",
       "    }\n",
       "\n",
       "    .dataframe thead th {\n",
       "        text-align: right;\n",
       "    }\n",
       "</style>\n",
       "<table border=\"1\" class=\"dataframe\">\n",
       "  <thead>\n",
       "    <tr style=\"text-align: right;\">\n",
       "      <th></th>\n",
       "      <th>ItemID</th>\n",
       "      <th>UserID</th>\n",
       "      <th>ItemName</th>\n",
       "      <th>Description</th>\n",
       "      <th>Price</th>\n",
       "    </tr>\n",
       "  </thead>\n",
       "  <tbody>\n",
       "    <tr>\n",
       "      <th>0</th>\n",
       "      <td>1</td>\n",
       "      <td>1548</td>\n",
       "      <td>Duracell 2032 Lithium Coin Batteries, 12-count</td>\n",
       "      <td>Our Longest Lasting Lithium Coin Battery Ever ...</td>\n",
       "      <td>14.99</td>\n",
       "    </tr>\n",
       "    <tr>\n",
       "      <th>1</th>\n",
       "      <td>2</td>\n",
       "      <td>1190</td>\n",
       "      <td>GoPro HERO11 Black Action Camera Bundle</td>\n",
       "      <td>Also Includes: Shorty Hand Grip, Spare Enduro ...</td>\n",
       "      <td>289.99</td>\n",
       "    </tr>\n",
       "    <tr>\n",
       "      <th>2</th>\n",
       "      <td>3</td>\n",
       "      <td>1260</td>\n",
       "      <td>Insta360 X3 - 5.7K 360° Action Camera Adventur...</td>\n",
       "      <td>X3 Captures 5.7K 360 Active HDR Video   Dual 1...</td>\n",
       "      <td>399.99</td>\n",
       "    </tr>\n",
       "    <tr>\n",
       "      <th>3</th>\n",
       "      <td>4</td>\n",
       "      <td>232</td>\n",
       "      <td>DJI Mini 3 Drone Aerial Camera Bundle</td>\n",
       "      <td>Less Than 249g (0.55lbs) Ultralight and Foldab...</td>\n",
       "      <td>429.99</td>\n",
       "    </tr>\n",
       "    <tr>\n",
       "      <th>4</th>\n",
       "      <td>5</td>\n",
       "      <td>1736</td>\n",
       "      <td>GoPro HERO10 Black Action Camera Bundle</td>\n",
       "      <td>Also Includes: Extra Battery/Charger, Compact ...</td>\n",
       "      <td>239.97</td>\n",
       "    </tr>\n",
       "  </tbody>\n",
       "</table>\n",
       "</div>"
      ],
      "text/plain": [
       "   ItemID  UserID                                           ItemName  \\\n",
       "0       1    1548     Duracell 2032 Lithium Coin Batteries, 12-count   \n",
       "1       2    1190            GoPro HERO11 Black Action Camera Bundle   \n",
       "2       3    1260  Insta360 X3 - 5.7K 360° Action Camera Adventur...   \n",
       "3       4     232              DJI Mini 3 Drone Aerial Camera Bundle   \n",
       "4       5    1736            GoPro HERO10 Black Action Camera Bundle   \n",
       "\n",
       "                                         Description   Price  \n",
       "0  Our Longest Lasting Lithium Coin Battery Ever ...   14.99  \n",
       "1  Also Includes: Shorty Hand Grip, Spare Enduro ...  289.99  \n",
       "2  X3 Captures 5.7K 360 Active HDR Video   Dual 1...  399.99  \n",
       "3  Less Than 249g (0.55lbs) Ultralight and Foldab...  429.99  \n",
       "4  Also Includes: Extra Battery/Charger, Compact ...  239.97  "
      ]
     },
     "execution_count": 50,
     "metadata": {},
     "output_type": "execute_result"
    }
   ],
   "source": [
    "items2.head()"
   ]
  },
  {
   "cell_type": "code",
   "execution_count": 51,
   "id": "7a743512",
   "metadata": {},
   "outputs": [
    {
     "data": {
      "text/plain": [
       "0"
      ]
     },
     "execution_count": 51,
     "metadata": {},
     "output_type": "execute_result"
    }
   ],
   "source": [
    "items2.isna().sum().sum()"
   ]
  },
  {
   "cell_type": "code",
   "execution_count": 52,
   "id": "86e04edd",
   "metadata": {},
   "outputs": [
    {
     "data": {
      "text/html": [
       "<div>\n",
       "<style scoped>\n",
       "    .dataframe tbody tr th:only-of-type {\n",
       "        vertical-align: middle;\n",
       "    }\n",
       "\n",
       "    .dataframe tbody tr th {\n",
       "        vertical-align: top;\n",
       "    }\n",
       "\n",
       "    .dataframe thead th {\n",
       "        text-align: right;\n",
       "    }\n",
       "</style>\n",
       "<table border=\"1\" class=\"dataframe\">\n",
       "  <thead>\n",
       "    <tr style=\"text-align: right;\">\n",
       "      <th></th>\n",
       "      <th>UserID</th>\n",
       "      <th>Count</th>\n",
       "    </tr>\n",
       "  </thead>\n",
       "  <tbody>\n",
       "    <tr>\n",
       "      <th>12</th>\n",
       "      <td>60</td>\n",
       "      <td>2</td>\n",
       "    </tr>\n",
       "    <tr>\n",
       "      <th>21</th>\n",
       "      <td>93</td>\n",
       "      <td>2</td>\n",
       "    </tr>\n",
       "    <tr>\n",
       "      <th>54</th>\n",
       "      <td>226</td>\n",
       "      <td>2</td>\n",
       "    </tr>\n",
       "    <tr>\n",
       "      <th>61</th>\n",
       "      <td>267</td>\n",
       "      <td>2</td>\n",
       "    </tr>\n",
       "    <tr>\n",
       "      <th>66</th>\n",
       "      <td>281</td>\n",
       "      <td>2</td>\n",
       "    </tr>\n",
       "  </tbody>\n",
       "</table>\n",
       "</div>"
      ],
      "text/plain": [
       "    UserID  Count\n",
       "12      60      2\n",
       "21      93      2\n",
       "54     226      2\n",
       "61     267      2\n",
       "66     281      2"
      ]
     },
     "execution_count": 52,
     "metadata": {},
     "output_type": "execute_result"
    }
   ],
   "source": [
    "groupby = items2.groupby('UserID').size().reset_index(name='Count')\n",
    "groupby[groupby['Count'] > 1].head()"
   ]
  },
  {
   "cell_type": "markdown",
   "id": "8bed1ff4",
   "metadata": {},
   "source": [
    "### unit test\n"
   ]
  },
  {
   "cell_type": "code",
   "execution_count": 53,
   "id": "e6ea4379",
   "metadata": {},
   "outputs": [
    {
     "name": "stdout",
     "output_type": "stream",
     "text": [
      "All prices are numeric\n"
     ]
    }
   ],
   "source": [
    "def test_price(df):\n",
    "    for index, row in df.iterrows():\n",
    "        price = row['Price']\n",
    "        user_id = row['UserID']\n",
    "        assert pd.api.types.is_numeric_dtype(type(price)), f\"UserID {user_id}'s Price {price} is not numeric\"\n",
    "    print(\"All prices are numeric\")\n",
    "    \n",
    "test_price(items2)"
   ]
  },
  {
   "cell_type": "code",
   "execution_count": 54,
   "id": "17c5d12b",
   "metadata": {},
   "outputs": [
    {
     "name": "stdout",
     "output_type": "stream",
     "text": [
      "All descriptions have 200 characters or less.\n"
     ]
    }
   ],
   "source": [
    "def is_valid_description(description: str) -> bool:\n",
    "    return len(description) <= 200\n",
    "\n",
    "def test_description_length(df):\n",
    "    invalid_descriptions = df[~df['Description'].apply(is_valid_description)]\n",
    "    assert invalid_descriptions.empty, f\"Descriptions exceeding 200 characters found: {invalid_descriptions['Description'].tolist()}\"\n",
    "    print(\"All descriptions have 200 characters or less.\")\n",
    "\n",
    "test_description_length(items2)"
   ]
  },
  {
   "cell_type": "code",
   "execution_count": 55,
   "id": "e1e9629c",
   "metadata": {},
   "outputs": [
    {
     "data": {
      "text/plain": [
       "(621, 5)"
      ]
     },
     "execution_count": 55,
     "metadata": {},
     "output_type": "execute_result"
    }
   ],
   "source": [
    "items2.shape"
   ]
  },
  {
   "cell_type": "markdown",
   "id": "0a338ef8",
   "metadata": {},
   "source": [
    "## listings schema"
   ]
  },
  {
   "cell_type": "code",
   "execution_count": 56,
   "id": "43ccb917",
   "metadata": {},
   "outputs": [],
   "source": [
    "num_entries = 50\n",
    "\n",
    "# ListingID\n",
    "listing_id = range(1, num_entries + 1)\n",
    "\n",
    "# BorrowerID & LenderID\n",
    "borrower_id = np.random.randint(1, 2481, size=num_entries)\n",
    "lender_id = np.random.randint(1, 2481, size=num_entries)\n",
    "\n",
    "for i in range(num_entries):\n",
    "    while borrower_id[i] == lender_id[i]:\n",
    "        lender_id[i] = np.random.randint(1, 2481)\n",
    "\n",
    "# ItemID\n",
    "item_ids = np.random.randint(1, 621, size=num_entries)\n",
    "\n",
    "# StartDate & EndDate\n",
    "start_date_base = datetime.strptime('01-01-2024', '%d-%m-%Y')\n",
    "end_date_limit = datetime.strptime('01-09-2024', '%d-%m-%Y')\n",
    "\n",
    "start_dates = [start_date_base + timedelta(days=random.randint(0, (end_date_limit - start_date_base).days)) for _ in range(num_entries)]\n",
    "end_dates = [start_dates[i] + timedelta(days=random.randint(1, (end_date_limit - start_dates[i]).days)) for i in range(num_entries)]\n",
    "\n",
    "# Creating Return_Flag column with all values as True (1)\n",
    "return_flag = [1] * num_entries\n",
    "\n",
    "# Create the DataFrame\n",
    "listings = pd.DataFrame({\n",
    "    'ListingID': listing_id,\n",
    "    'BorrowerID': borrower_id,\n",
    "    'LenderID': lender_id,\n",
    "    'ItemID': item_ids,\n",
    "    'StartDate': start_dates,\n",
    "    'EndDate': end_dates,\n",
    "    'ReturnFlag': return_flag\n",
    "})\n",
    "\n"
   ]
  },
  {
   "cell_type": "code",
   "execution_count": 57,
   "id": "390e8d81",
   "metadata": {},
   "outputs": [
    {
     "data": {
      "text/plain": [
       "0"
      ]
     },
     "execution_count": 57,
     "metadata": {},
     "output_type": "execute_result"
    }
   ],
   "source": [
    "listings.isna().sum().sum()"
   ]
  },
  {
   "cell_type": "code",
   "execution_count": 58,
   "id": "76f03299",
   "metadata": {
    "scrolled": false
   },
   "outputs": [
    {
     "data": {
      "text/html": [
       "<div>\n",
       "<style scoped>\n",
       "    .dataframe tbody tr th:only-of-type {\n",
       "        vertical-align: middle;\n",
       "    }\n",
       "\n",
       "    .dataframe tbody tr th {\n",
       "        vertical-align: top;\n",
       "    }\n",
       "\n",
       "    .dataframe thead th {\n",
       "        text-align: right;\n",
       "    }\n",
       "</style>\n",
       "<table border=\"1\" class=\"dataframe\">\n",
       "  <thead>\n",
       "    <tr style=\"text-align: right;\">\n",
       "      <th></th>\n",
       "      <th>ListingID</th>\n",
       "      <th>BorrowerID</th>\n",
       "      <th>LenderID</th>\n",
       "      <th>ItemID</th>\n",
       "      <th>StartDate</th>\n",
       "      <th>EndDate</th>\n",
       "      <th>ReturnFlag</th>\n",
       "    </tr>\n",
       "  </thead>\n",
       "  <tbody>\n",
       "    <tr>\n",
       "      <th>0</th>\n",
       "      <td>1</td>\n",
       "      <td>1098</td>\n",
       "      <td>1340</td>\n",
       "      <td>555</td>\n",
       "      <td>2024-04-17</td>\n",
       "      <td>2024-08-09</td>\n",
       "      <td>1</td>\n",
       "    </tr>\n",
       "    <tr>\n",
       "      <th>1</th>\n",
       "      <td>2</td>\n",
       "      <td>703</td>\n",
       "      <td>174</td>\n",
       "      <td>426</td>\n",
       "      <td>2024-06-16</td>\n",
       "      <td>2024-07-25</td>\n",
       "      <td>1</td>\n",
       "    </tr>\n",
       "    <tr>\n",
       "      <th>2</th>\n",
       "      <td>3</td>\n",
       "      <td>1855</td>\n",
       "      <td>533</td>\n",
       "      <td>188</td>\n",
       "      <td>2024-05-19</td>\n",
       "      <td>2024-06-10</td>\n",
       "      <td>1</td>\n",
       "    </tr>\n",
       "    <tr>\n",
       "      <th>3</th>\n",
       "      <td>4</td>\n",
       "      <td>1639</td>\n",
       "      <td>454</td>\n",
       "      <td>521</td>\n",
       "      <td>2024-03-08</td>\n",
       "      <td>2024-05-10</td>\n",
       "      <td>1</td>\n",
       "    </tr>\n",
       "    <tr>\n",
       "      <th>4</th>\n",
       "      <td>5</td>\n",
       "      <td>1497</td>\n",
       "      <td>1957</td>\n",
       "      <td>597</td>\n",
       "      <td>2024-01-08</td>\n",
       "      <td>2024-07-01</td>\n",
       "      <td>1</td>\n",
       "    </tr>\n",
       "  </tbody>\n",
       "</table>\n",
       "</div>"
      ],
      "text/plain": [
       "   ListingID  BorrowerID  LenderID  ItemID  StartDate    EndDate  ReturnFlag\n",
       "0          1        1098      1340     555 2024-04-17 2024-08-09           1\n",
       "1          2         703       174     426 2024-06-16 2024-07-25           1\n",
       "2          3        1855       533     188 2024-05-19 2024-06-10           1\n",
       "3          4        1639       454     521 2024-03-08 2024-05-10           1\n",
       "4          5        1497      1957     597 2024-01-08 2024-07-01           1"
      ]
     },
     "execution_count": 58,
     "metadata": {},
     "output_type": "execute_result"
    }
   ],
   "source": [
    "listings.head()"
   ]
  },
  {
   "cell_type": "markdown",
   "id": "aebb73b8",
   "metadata": {},
   "source": [
    "### small unit test practice"
   ]
  },
  {
   "cell_type": "code",
   "execution_count": 59,
   "id": "6d98ef83",
   "metadata": {},
   "outputs": [
    {
     "name": "stdout",
     "output_type": "stream",
     "text": [
      "No same ID\n"
     ]
    }
   ],
   "source": [
    "def test_borrower_lender_ids(df):\n",
    "    for i in range(len(df)):\n",
    "        assert df.loc[i, 'BorrowerID'] != df.loc[i, 'LenderID'], \\\n",
    "            f\"BorrowerID and LenderID are the same for ListingID {df.loc[i, 'ListingID']}\"\n",
    "    print(\"No same ID\")\n",
    "\n",
    "test_borrower_lender_ids(listings)\n"
   ]
  },
  {
   "cell_type": "code",
   "execution_count": 60,
   "id": "f1708c77",
   "metadata": {},
   "outputs": [
    {
     "name": "stdout",
     "output_type": "stream",
     "text": [
      "No EndDate > StartDate\n"
     ]
    }
   ],
   "source": [
    "def test_invalid_dates(df):\n",
    "    for i in range(len(df)):\n",
    "        assert df.loc[i, 'EndDate'] > df.loc[i, 'StartDate'], \\\n",
    "            f\"EndDate is not greater than StartDate for ListingID {df.loc[i, 'ListingID']}\"\n",
    "    print(\"No EndDate > StartDate\")\n",
    "test_invalid_dates(listings)"
   ]
  },
  {
   "cell_type": "markdown",
   "id": "369feb73",
   "metadata": {},
   "source": [
    "# Export CSV"
   ]
  },
  {
   "cell_type": "code",
   "execution_count": 61,
   "id": "79570a76",
   "metadata": {},
   "outputs": [
    {
     "data": {
      "text/plain": [
       "'C:\\\\Users\\\\quay\\\\Documents\\\\ShareIt\\\\data\\\\raw'"
      ]
     },
     "execution_count": 61,
     "metadata": {},
     "output_type": "execute_result"
    }
   ],
   "source": [
    "%pwd"
   ]
  },
  {
   "cell_type": "code",
   "execution_count": 62,
   "id": "9573e6d6",
   "metadata": {},
   "outputs": [
    {
     "name": "stdout",
     "output_type": "stream",
     "text": [
      "C:\\Users\\quay\\Documents\\ShareIt\\data\n"
     ]
    }
   ],
   "source": [
    "cd .."
   ]
  },
  {
   "cell_type": "code",
   "execution_count": 63,
   "id": "66574ba6",
   "metadata": {},
   "outputs": [
    {
     "name": "stdout",
     "output_type": "stream",
     "text": [
      "C:\\Users\\quay\\Documents\\ShareIt\\data\\clean\n"
     ]
    }
   ],
   "source": [
    "cd clean/"
   ]
  },
  {
   "cell_type": "code",
   "execution_count": 64,
   "id": "513f466b",
   "metadata": {},
   "outputs": [],
   "source": [
    "users2.to_csv('users.csv', index=False)\n",
    "items2.to_csv('items.csv', index=False) \n",
    "listings.to_csv('listings.csv', index=False) "
   ]
  }
 ],
 "metadata": {
  "kernelspec": {
   "display_name": "Python 3 (ipykernel)",
   "language": "python",
   "name": "python3"
  },
  "language_info": {
   "codemirror_mode": {
    "name": "ipython",
    "version": 3
   },
   "file_extension": ".py",
   "mimetype": "text/x-python",
   "name": "python",
   "nbconvert_exporter": "python",
   "pygments_lexer": "ipython3",
   "version": "3.11.4"
  }
 },
 "nbformat": 4,
 "nbformat_minor": 5
}
